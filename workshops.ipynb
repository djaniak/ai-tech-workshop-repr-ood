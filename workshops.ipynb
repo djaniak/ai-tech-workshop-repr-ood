{
 "cells": [
  {
   "cell_type": "code",
   "execution_count": 80,
   "metadata": {},
   "outputs": [],
   "source": [
    "!git clone https://github.com/djaniak/ai-tech-workshop-repr-ood.git"
   ]
  },
  {
   "cell_type": "code",
   "execution_count": 81,
   "metadata": {},
   "outputs": [],
   "source": [
    "!mv ai-tech-workshop-repr-ood/* ."
   ]
  },
  {
   "cell_type": "code",
   "execution_count": 1,
   "metadata": {
    "collapsed": false,
    "jupyter": {
     "outputs_hidden": false
    }
   },
   "outputs": [],
   "source": [
    "!pip install -r requirements.txt"
   ]
  },
  {
   "cell_type": "code",
   "execution_count": 1,
   "metadata": {},
   "outputs": [],
   "source": [
    "%load_ext autoreload\n",
    "%autoreload 2"
   ]
  },
  {
   "cell_type": "code",
   "execution_count": 100,
   "metadata": {},
   "outputs": [],
   "source": [
    "import os\n",
    "from typing import Any, Union, Optional\n",
    "\n",
    "import seaborn as sns\n",
    "import torch\n",
    "import torch.nn as nn\n",
    "import torch.nn.functional as F\n",
    "from torch.utils.data.dataloader import DataLoader\n",
    "import torchvision\n",
    "import tqdm\n",
    "import pytorch_lightning as pl\n",
    "from pl_bolts.datamodules import CIFAR10DataModule\n",
    "from pytorch_lightning import LightningModule, Trainer, seed_everything\n",
    "import umap"
   ]
  },
  {
   "cell_type": "code",
   "execution_count": 8,
   "metadata": {
    "collapsed": false,
    "jupyter": {
     "outputs_hidden": false
    }
   },
   "outputs": [
    {
     "name": "stderr",
     "output_type": "stream",
     "text": [
      "Global seed set to 997\n"
     ]
    }
   ],
   "source": [
    "DATASET_PATH = os.environ.get(\"DATASET_PATH\", \"data/\")\n",
    "\n",
    "# Setting the seed\n",
    "seed_everything(997)\n",
    "\n",
    "device = torch.device(\"cuda:0\") if torch.cuda.is_available() else torch.device(\"cpu\")"
   ]
  },
  {
   "cell_type": "markdown",
   "metadata": {},
   "source": [
    "# Supervised"
   ]
  },
  {
   "cell_type": "markdown",
   "metadata": {},
   "source": [
    "Supervised representation learning refers to a machine learning approach where a model is trained to automatically learn meaningful representations or features from labeled data. In supervised learning, the dataset consists of input data samples paired with corresponding target labels, and the goal is to learn a mapping between the inputs and the desired outputs.\n",
    "\n",
    "In the context of representation learning, the focus is on learning a compact and informative representation of the input data that captures its underlying structure and discriminative properties. Instead of relying on handcrafted features, supervised representation learning enables the model to automatically discover relevant features directly from the raw input data.\n",
    "\n",
    "Supervised representation learning typically involves training a deep neural network, such as a convolutional neural network (CNN) for image data or a recurrent neural network (RNN) for sequential data. The network is initialized with random weights and then optimized using gradient-based methods to minimize a predefined objective function, such as cross-entropy loss.\n",
    "\n",
    "During training, the model learns to transform the input data into a representation that is conducive to the task at hand. The model adjusts its internal parameters to minimize the discrepancy between the predicted outputs and the true labels provided in the training data. As a result, the model learns to extract relevant features from the data that are useful for discriminating between different classes or making accurate predictions.\n",
    "\n",
    "Supervised representation learning has been widely applied to various domains, including computer vision, natural language processing, and speech recognition. By learning representations directly from labeled data, these models can achieve superior performance compared to traditional feature engineering approaches, as they can capture more intricate patterns and relationships in the data."
   ]
  },
  {
   "cell_type": "markdown",
   "metadata": {},
   "source": [
    "#### Original ResNet18 architecture\n",
    "\n",
    "![resnet](https://www.researchgate.net/publication/336642248/figure/fig1/AS:839151377203201@1577080687133/Original-ResNet-18-Architecture.png)\n",
    "\n",
    "Ramzan, Farheen & Khan, Muhammad Usman & Rehmat, Asim & Iqbal, Sajid & Saba, Tanzila & Rehman, Amjad & Mehmood, Zahid. (2019). A Deep Learning Approach for Automated Diagnosis and Multi-Class Classification of Alzheimer’s Disease Stages Using Resting-State fMRI and Residual Neural Networks. Journal of Medical Systems. 44. 10.1007/s10916-019-1475-2. "
   ]
  },
  {
   "cell_type": "markdown",
   "metadata": {},
   "source": [
    "Code based on https://lightning.ai/docs/pytorch/stable/notebooks/lightning_examples/cifar10-baseline.html"
   ]
  },
  {
   "cell_type": "markdown",
   "metadata": {},
   "source": [
    "We will use a modified pre-existing Resnet architecture from TorchVision. The pre-existing architecture is based on ImageNet images (224x224) as input. So we need to modify it for CIFAR10 images (32x32)."
   ]
  },
  {
   "cell_type": "code",
   "execution_count": 4,
   "metadata": {},
   "outputs": [],
   "source": [
    "from IPython.display import Code, display\n",
    "\n",
    "# display(Code(filename=\"src/model/resnet.py\"))"
   ]
  },
  {
   "cell_type": "markdown",
   "metadata": {},
   "source": [
    "We will first load ResNet model and CIFAR10 dataset and validate it on test dataset."
   ]
  },
  {
   "cell_type": "code",
   "execution_count": null,
   "outputs": [],
   "source": [
    "from torchvision.datasets import CIFAR10\n",
    "\n",
    "CIFAR10(root=DATASET_PATH, download=True, train=True)\n",
    "CIFAR10(root=DATASET_PATH, download=True, train=False)"
   ],
   "metadata": {
    "collapsed": false
   }
  },
  {
   "cell_type": "code",
   "execution_count": 5,
   "metadata": {
    "collapsed": false,
    "jupyter": {
     "outputs_hidden": false
    }
   },
   "outputs": [],
   "source": [
    "from src.data.transforms import get_supervised_transforms\n",
    "\n",
    "train_transforms, val_transforms, test_transforms = get_supervised_transforms()\n",
    "dm_resnet = CIFAR10DataModule(\n",
    "    data_dir=DATASET_PATH,\n",
    "    batch_size=256,\n",
    "    num_workers=0,\n",
    "    train_transforms=train_transforms,\n",
    "    test_transforms=test_transforms,\n",
    "    val_transforms=val_transforms,\n",
    ")\n",
    "dm_resnet.setup()"
   ]
  },
  {
   "cell_type": "code",
   "execution_count": 7,
   "metadata": {
    "collapsed": false,
    "jupyter": {
     "outputs_hidden": false
    }
   },
   "outputs": [],
   "source": [
    "from src.model.resnet import LitResnet\n",
    "\n",
    "ckpt_path = \"saved_models/resnet/model.ckpt\"\n",
    "model_resnet = LitResnet.load_from_checkpoint(ckpt_path).eval()"
   ]
  },
  {
   "cell_type": "code",
   "execution_count": null,
   "metadata": {
    "collapsed": false,
    "jupyter": {
     "outputs_hidden": false
    }
   },
   "outputs": [
    {
     "name": "stderr",
     "output_type": "stream",
     "text": [
      "GPU available: False, used: False\n",
      "TPU available: False, using: 0 TPU cores\n",
      "IPU available: False, using: 0 IPUs\n",
      "HPU available: False, using: 0 HPUs\n"
     ]
    },
    {
     "name": "stdout",
     "output_type": "stream",
     "text": [
      "Files already downloaded and verified\n",
      "Files already downloaded and verified\n"
     ]
    },
    {
     "name": "stderr",
     "output_type": "stream",
     "text": [
      "/opt/anaconda3/envs/ai-tech2/lib/python3.9/site-packages/pytorch_lightning/trainer/connectors/data_connector.py:224: PossibleUserWarning: The dataloader, test_dataloader 0, does not have many workers which may be a bottleneck. Consider increasing the value of the `num_workers` argument` (try 8 which is the number of cpus on this machine) in the `DataLoader` init to improve performance.\n",
      "  rank_zero_warn(\n"
     ]
    },
    {
     "data": {
      "application/vnd.jupyter.widget-view+json": {
       "model_id": "575e42ce61fc443a808daba0539f775b",
       "version_major": 2,
       "version_minor": 0
      },
      "text/plain": [
       "Testing: 0it [00:00, ?it/s]"
      ]
     },
     "metadata": {},
     "output_type": "display_data"
    },
    {
     "data": {
      "text/html": [
       "<pre style=\"white-space:pre;overflow-x:auto;line-height:normal;font-family:Menlo,'DejaVu Sans Mono',consolas,'Courier New',monospace\">┏━━━━━━━━━━━━━━━━━━━━━━━━━━━┳━━━━━━━━━━━━━━━━━━━━━━━━━━━┓\n",
       "┃<span style=\"font-weight: bold\">        Test metric        </span>┃<span style=\"font-weight: bold\">       DataLoader 0        </span>┃\n",
       "┡━━━━━━━━━━━━━━━━━━━━━━━━━━━╇━━━━━━━━━━━━━━━━━━━━━━━━━━━┩\n",
       "│<span style=\"color: #008080; text-decoration-color: #008080\">         test_acc          </span>│<span style=\"color: #800080; text-decoration-color: #800080\">    0.9168999791145325     </span>│\n",
       "│<span style=\"color: #008080; text-decoration-color: #008080\">         test_ece          </span>│<span style=\"color: #800080; text-decoration-color: #800080\">   0.051908861845731735    </span>│\n",
       "│<span style=\"color: #008080; text-decoration-color: #008080\">         test_loss         </span>│<span style=\"color: #800080; text-decoration-color: #800080\">    0.2843647599220276     </span>│\n",
       "└───────────────────────────┴───────────────────────────┘\n",
       "</pre>\n"
      ],
      "text/plain": [
       "┏━━━━━━━━━━━━━━━━━━━━━━━━━━━┳━━━━━━━━━━━━━━━━━━━━━━━━━━━┓\n",
       "┃\u001B[1m \u001B[0m\u001B[1m       Test metric       \u001B[0m\u001B[1m \u001B[0m┃\u001B[1m \u001B[0m\u001B[1m      DataLoader 0       \u001B[0m\u001B[1m \u001B[0m┃\n",
       "┡━━━━━━━━━━━━━━━━━━━━━━━━━━━╇━━━━━━━━━━━━━━━━━━━━━━━━━━━┩\n",
       "│\u001B[36m \u001B[0m\u001B[36m        test_acc         \u001B[0m\u001B[36m \u001B[0m│\u001B[35m \u001B[0m\u001B[35m   0.9168999791145325    \u001B[0m\u001B[35m \u001B[0m│\n",
       "│\u001B[36m \u001B[0m\u001B[36m        test_ece         \u001B[0m\u001B[36m \u001B[0m│\u001B[35m \u001B[0m\u001B[35m  0.051908861845731735   \u001B[0m\u001B[35m \u001B[0m│\n",
       "│\u001B[36m \u001B[0m\u001B[36m        test_loss        \u001B[0m\u001B[36m \u001B[0m│\u001B[35m \u001B[0m\u001B[35m   0.2843647599220276    \u001B[0m\u001B[35m \u001B[0m│\n",
       "└───────────────────────────┴───────────────────────────┘\n"
      ]
     },
     "metadata": {},
     "output_type": "display_data"
    },
    {
     "data": {
      "text/plain": [
       "[{'test_loss': 0.2843647599220276,\n",
       "  'test_acc': 0.9168999791145325,\n",
       "  'test_ece': 0.051908861845731735}]"
      ]
     },
     "execution_count": 11,
     "metadata": {},
     "output_type": "execute_result"
    }
   ],
   "source": [
    "trainer = pl.Trainer(accelerator=\"auto\", devices=1)\n",
    "trainer.test(model_resnet, datamodule=dm_resnet)"
   ]
  },
  {
   "cell_type": "markdown",
   "metadata": {},
   "source": [
    "## Calculate metrics"
   ]
  },
  {
   "cell_type": "markdown",
   "metadata": {},
   "source": [
    "A network should provide a calibrated confidence measure in addition to its prediction. In other words, the probability associated with the predicted class label should reflect its ground truth correctness likelihood. Calibrated confidence estimates are also important for model interpretability. Humans have a natural cognitive in- tuition for probabilities (Cosmides & Tooby, 1996). Good confidence estimates provide a valuable extra bit of infor- mation to establish trustworthiness with the user – espe- cially for neural networks, whose classification decisions are often difficult to interpret. Further, good probability estimates can be used to incorporate neural networks into other probabilistic models. \n",
    "\n",
    "Reference: Guo, Chuan, et al. \"On calibration of modern neural networks.\" International conference on machine learning. PMLR, 2017.\n"
   ]
  },
  {
   "cell_type": "markdown",
   "metadata": {},
   "source": [
    "**Reliability Diagrams** (e.g. Figure 1 bottom) are a visual representation of model calibration (DeGroot & Fienberg, 1983; Niculescu-Mizil & Caruana, 2005). These diagrams plot expected sample accuracy as a function of confidence. If the model is perfectly calibrated – i.e. if (1) holds – then the diagram should plot the identity function. Any devia- tion from a perfect diagonal represents miscalibration."
   ]
  },
  {
   "cell_type": "markdown",
   "metadata": {},
   "source": [
    "![](https://i.imgur.com/ecR1QTl.png)"
   ]
  },
  {
   "cell_type": "markdown",
   "metadata": {},
   "source": [
    "While reliability diagrams are useful visual tools, it is more convenient to have a scalar summary statistic of calibration. Since statis- tics comparing two distributions cannot be comprehensive, previous works have proposed variants, each with a unique emphasis. One notion of miscalibration is the difference in expectation between confidence and accuracy, which **expected calibratior error** approximates.\n",
    "\n",
    "The **expected calibration error (ECE)** can be used to quantify how well a given model is calibrated e.g. how well the predicted output probabilities of the model matches the actual probabilities of the ground truth distribution."
   ]
  },
  {
   "cell_type": "markdown",
   "metadata": {},
   "source": [
    "![](https://torchmetrics.readthedocs.io/en/stable/_images/math/05e4eb289eeff9cbcfa8b06bd3567f50b5b1b94b.png)"
   ]
  },
  {
   "cell_type": "markdown",
   "metadata": {},
   "source": [
    "Let's create a simple reliability diagram for our model!"
   ]
  },
  {
   "cell_type": "code",
   "execution_count": null,
   "metadata": {},
   "outputs": [],
   "source": [
    "from src.utils.utils import get_preds_and_labels\n",
    "\n",
    "preds, target = get_preds_and_labels(\n",
    "    model=model_resnet.to(device), dataloader=dm_resnet.test_dataloader(), device=device\n",
    ")"
   ]
  },
  {
   "cell_type": "code",
   "execution_count": null,
   "metadata": {},
   "outputs": [
    {
     "data": {
      "image/png": "[encoded data removed]",
      "text/plain": [
       "<Figure size 540x756 with 2 Axes>"
      ]
     },
     "metadata": {},
     "output_type": "display_data"
    }
   ],
   "source": [
    "from src.utils.rel import reliability_diagram\n",
    "\n",
    "fig = reliability_diagram(\n",
    "    true_labels=target.numpy(),\n",
    "    pred_labels=torch.argmax(preds, dim=1).numpy(),\n",
    "    confidences=torch.max(preds, dim=1).values.numpy(),\n",
    "    num_bins=15,\n",
    "    dpi=90,\n",
    "    return_fig=True,\n",
    ")"
   ]
  },
  {
   "cell_type": "markdown",
   "metadata": {},
   "source": [
    "## Extracting features"
   ]
  },
  {
   "attachments": {},
   "cell_type": "markdown",
   "metadata": {},
   "source": [
    "Ok, we now see that our model in fitted as we valdiated it on the test dataset. We want to extract features that can be used as a representation to see what our model has learnt.\n",
    "\n",
    "Here is snippet from the torch ResNet implementation:\n",
    "\n",
    "```\n",
    "    def _forward_impl(self, x: Tensor) -> Tensor:\n",
    "        x = self.conv1(x)\n",
    "        x = self.bn1(x)\n",
    "        x = self.relu(x)\n",
    "        x = self.maxpool(x)\n",
    "\n",
    "        x = self.layer1(x)\n",
    "        x = self.layer2(x)\n",
    "        x = self.layer3(x)\n",
    "        x = self.layer4(x)\n",
    "\n",
    "        x = self.avgpool(x)\n",
    "        x = torch.flatten(x, 1)\n",
    "        x = self.fc(x)\n",
    "\n",
    "        return x\n",
    "\n",
    "    def forward(self, x: Tensor) -> Tensor:\n",
    "        return self._forward_impl(x)\n",
    "```"
   ]
  },
  {
   "cell_type": "markdown",
   "metadata": {},
   "source": [
    "## Exercise 1:\n",
    "### Implement a function that extract features from the ResNet model. Then follow and extract the features."
   ]
  },
  {
   "cell_type": "code",
   "execution_count": null,
   "metadata": {},
   "outputs": [],
   "source": [
    "class MyResnet(LitResnet):\n",
    "    device = (\n",
    "        torch.device(\"cuda:0\") if torch.cuda.is_available() else torch.device(\"cpu\")\n",
    "    )\n",
    "\n",
    "    def _forward_features(self, x: torch.Tensor) -> torch.Tensor:\n",
    "        raise NotImplementedError\n",
    "\n",
    "    def extract_features(self, dataloader):\n",
    "        features = []\n",
    "        labels = []\n",
    "        for batch in tqdm.tqdm(dataloader, total=len(dataloader)):\n",
    "            x, y = batch\n",
    "            with torch.no_grad():\n",
    "                batch_feats = self._forward_features(x.to(self.device)).cpu()\n",
    "            features.append(batch_feats)\n",
    "            labels.append(y)\n",
    "        features = torch.vstack(features)\n",
    "        labels = torch.hstack(labels)\n",
    "        return features, labels"
   ]
  },
  {
   "cell_type": "code",
   "execution_count": 111,
   "metadata": {},
   "outputs": [],
   "source": [
    "model_resnet = MyResnet.load_from_checkpoint(ckpt_path).eval()\n",
    "model_resnet = model_resnet.to(device)"
   ]
  },
  {
   "cell_type": "code",
   "execution_count": 109,
   "metadata": {},
   "outputs": [
    {
     "name": "stderr",
     "output_type": "stream",
     "text": [
      " 30%|███       | 12/40 [00:33<01:17,  2.78s/it]\n"
     ]
    },
    {
     "ename": "KeyboardInterrupt",
     "evalue": "",
     "output_type": "error",
     "traceback": [
      "\u001B[0;31m---------------------------------------------------------------------------\u001B[0m",
      "\u001B[0;31mKeyboardInterrupt\u001B[0m                         Traceback (most recent call last)",
      "Cell \u001B[0;32mIn[109], line 4\u001B[0m\n\u001B[1;32m      1\u001B[0m \u001B[39m# train_resnet_features, train_resnet_labels = model_resnet.extract_features(\u001B[39;00m\n\u001B[1;32m      2\u001B[0m \u001B[39m#     dataloader=dm_resnet.train_dataloader()\u001B[39;00m\n\u001B[1;32m      3\u001B[0m \u001B[39m# )\u001B[39;00m\n\u001B[0;32m----> 4\u001B[0m test_resnet_features, test_resnet_labels \u001B[39m=\u001B[39m model_resnet\u001B[39m.\u001B[39;49mextract_features(\n\u001B[1;32m      5\u001B[0m     dataloader\u001B[39m=\u001B[39;49mdm_resnet\u001B[39m.\u001B[39;49mtest_dataloader()\n\u001B[1;32m      6\u001B[0m )\n",
      "Cell \u001B[0;32mIn[107], line 27\u001B[0m, in \u001B[0;36mMyResnet.extract_features\u001B[0;34m(self, dataloader)\u001B[0m\n\u001B[1;32m     25\u001B[0m x, y \u001B[39m=\u001B[39m batch\n\u001B[1;32m     26\u001B[0m \u001B[39mwith\u001B[39;00m torch\u001B[39m.\u001B[39mno_grad():\n\u001B[0;32m---> 27\u001B[0m     batch_feats \u001B[39m=\u001B[39m \u001B[39mself\u001B[39;49m\u001B[39m.\u001B[39;49m_forward_features(x\u001B[39m.\u001B[39;49mto(\u001B[39mself\u001B[39;49m\u001B[39m.\u001B[39;49mdevice))\n\u001B[1;32m     28\u001B[0m features\u001B[39m.\u001B[39mappend(batch_feats)\n\u001B[1;32m     29\u001B[0m labels\u001B[39m.\u001B[39mappend(y)\n",
      "Cell \u001B[0;32mIn[107], line 13\u001B[0m, in \u001B[0;36mMyResnet._forward_features\u001B[0;34m(self, x)\u001B[0m\n\u001B[1;32m     11\u001B[0m x \u001B[39m=\u001B[39m \u001B[39mself\u001B[39m\u001B[39m.\u001B[39mmodel\u001B[39m.\u001B[39mrelu(x)\n\u001B[1;32m     12\u001B[0m x \u001B[39m=\u001B[39m \u001B[39mself\u001B[39m\u001B[39m.\u001B[39mmodel\u001B[39m.\u001B[39mmaxpool(x)\n\u001B[0;32m---> 13\u001B[0m x \u001B[39m=\u001B[39m \u001B[39mself\u001B[39;49m\u001B[39m.\u001B[39;49mmodel\u001B[39m.\u001B[39;49mlayer1(x)\n\u001B[1;32m     14\u001B[0m x \u001B[39m=\u001B[39m \u001B[39mself\u001B[39m\u001B[39m.\u001B[39mmodel\u001B[39m.\u001B[39mlayer2(x)\n\u001B[1;32m     15\u001B[0m x \u001B[39m=\u001B[39m \u001B[39mself\u001B[39m\u001B[39m.\u001B[39mmodel\u001B[39m.\u001B[39mlayer3(x)\n",
      "File \u001B[0;32m/opt/anaconda3/envs/ai-tech2/lib/python3.9/site-packages/torch/nn/modules/module.py:1194\u001B[0m, in \u001B[0;36mModule._call_impl\u001B[0;34m(self, *input, **kwargs)\u001B[0m\n\u001B[1;32m   1190\u001B[0m \u001B[39m# If we don't have any hooks, we want to skip the rest of the logic in\u001B[39;00m\n\u001B[1;32m   1191\u001B[0m \u001B[39m# this function, and just call forward.\u001B[39;00m\n\u001B[1;32m   1192\u001B[0m \u001B[39mif\u001B[39;00m \u001B[39mnot\u001B[39;00m (\u001B[39mself\u001B[39m\u001B[39m.\u001B[39m_backward_hooks \u001B[39mor\u001B[39;00m \u001B[39mself\u001B[39m\u001B[39m.\u001B[39m_forward_hooks \u001B[39mor\u001B[39;00m \u001B[39mself\u001B[39m\u001B[39m.\u001B[39m_forward_pre_hooks \u001B[39mor\u001B[39;00m _global_backward_hooks\n\u001B[1;32m   1193\u001B[0m         \u001B[39mor\u001B[39;00m _global_forward_hooks \u001B[39mor\u001B[39;00m _global_forward_pre_hooks):\n\u001B[0;32m-> 1194\u001B[0m     \u001B[39mreturn\u001B[39;00m forward_call(\u001B[39m*\u001B[39;49m\u001B[39minput\u001B[39;49m, \u001B[39m*\u001B[39;49m\u001B[39m*\u001B[39;49mkwargs)\n\u001B[1;32m   1195\u001B[0m \u001B[39m# Do not call functions when jit is used\u001B[39;00m\n\u001B[1;32m   1196\u001B[0m full_backward_hooks, non_full_backward_hooks \u001B[39m=\u001B[39m [], []\n",
      "File \u001B[0;32m/opt/anaconda3/envs/ai-tech2/lib/python3.9/site-packages/torch/nn/modules/container.py:204\u001B[0m, in \u001B[0;36mSequential.forward\u001B[0;34m(self, input)\u001B[0m\n\u001B[1;32m    202\u001B[0m \u001B[39mdef\u001B[39;00m \u001B[39mforward\u001B[39m(\u001B[39mself\u001B[39m, \u001B[39minput\u001B[39m):\n\u001B[1;32m    203\u001B[0m     \u001B[39mfor\u001B[39;00m module \u001B[39min\u001B[39;00m \u001B[39mself\u001B[39m:\n\u001B[0;32m--> 204\u001B[0m         \u001B[39minput\u001B[39m \u001B[39m=\u001B[39m module(\u001B[39minput\u001B[39;49m)\n\u001B[1;32m    205\u001B[0m     \u001B[39mreturn\u001B[39;00m \u001B[39minput\u001B[39m\n",
      "File \u001B[0;32m/opt/anaconda3/envs/ai-tech2/lib/python3.9/site-packages/torch/nn/modules/module.py:1194\u001B[0m, in \u001B[0;36mModule._call_impl\u001B[0;34m(self, *input, **kwargs)\u001B[0m\n\u001B[1;32m   1190\u001B[0m \u001B[39m# If we don't have any hooks, we want to skip the rest of the logic in\u001B[39;00m\n\u001B[1;32m   1191\u001B[0m \u001B[39m# this function, and just call forward.\u001B[39;00m\n\u001B[1;32m   1192\u001B[0m \u001B[39mif\u001B[39;00m \u001B[39mnot\u001B[39;00m (\u001B[39mself\u001B[39m\u001B[39m.\u001B[39m_backward_hooks \u001B[39mor\u001B[39;00m \u001B[39mself\u001B[39m\u001B[39m.\u001B[39m_forward_hooks \u001B[39mor\u001B[39;00m \u001B[39mself\u001B[39m\u001B[39m.\u001B[39m_forward_pre_hooks \u001B[39mor\u001B[39;00m _global_backward_hooks\n\u001B[1;32m   1193\u001B[0m         \u001B[39mor\u001B[39;00m _global_forward_hooks \u001B[39mor\u001B[39;00m _global_forward_pre_hooks):\n\u001B[0;32m-> 1194\u001B[0m     \u001B[39mreturn\u001B[39;00m forward_call(\u001B[39m*\u001B[39;49m\u001B[39minput\u001B[39;49m, \u001B[39m*\u001B[39;49m\u001B[39m*\u001B[39;49mkwargs)\n\u001B[1;32m   1195\u001B[0m \u001B[39m# Do not call functions when jit is used\u001B[39;00m\n\u001B[1;32m   1196\u001B[0m full_backward_hooks, non_full_backward_hooks \u001B[39m=\u001B[39m [], []\n",
      "File \u001B[0;32m/opt/anaconda3/envs/ai-tech2/lib/python3.9/site-packages/torchvision/models/resnet.py:92\u001B[0m, in \u001B[0;36mBasicBlock.forward\u001B[0;34m(self, x)\u001B[0m\n\u001B[1;32m     89\u001B[0m \u001B[39mdef\u001B[39;00m \u001B[39mforward\u001B[39m(\u001B[39mself\u001B[39m, x: Tensor) \u001B[39m-\u001B[39m\u001B[39m>\u001B[39m Tensor:\n\u001B[1;32m     90\u001B[0m     identity \u001B[39m=\u001B[39m x\n\u001B[0;32m---> 92\u001B[0m     out \u001B[39m=\u001B[39m \u001B[39mself\u001B[39;49m\u001B[39m.\u001B[39;49mconv1(x)\n\u001B[1;32m     93\u001B[0m     out \u001B[39m=\u001B[39m \u001B[39mself\u001B[39m\u001B[39m.\u001B[39mbn1(out)\n\u001B[1;32m     94\u001B[0m     out \u001B[39m=\u001B[39m \u001B[39mself\u001B[39m\u001B[39m.\u001B[39mrelu(out)\n",
      "File \u001B[0;32m/opt/anaconda3/envs/ai-tech2/lib/python3.9/site-packages/torch/nn/modules/module.py:1194\u001B[0m, in \u001B[0;36mModule._call_impl\u001B[0;34m(self, *input, **kwargs)\u001B[0m\n\u001B[1;32m   1190\u001B[0m \u001B[39m# If we don't have any hooks, we want to skip the rest of the logic in\u001B[39;00m\n\u001B[1;32m   1191\u001B[0m \u001B[39m# this function, and just call forward.\u001B[39;00m\n\u001B[1;32m   1192\u001B[0m \u001B[39mif\u001B[39;00m \u001B[39mnot\u001B[39;00m (\u001B[39mself\u001B[39m\u001B[39m.\u001B[39m_backward_hooks \u001B[39mor\u001B[39;00m \u001B[39mself\u001B[39m\u001B[39m.\u001B[39m_forward_hooks \u001B[39mor\u001B[39;00m \u001B[39mself\u001B[39m\u001B[39m.\u001B[39m_forward_pre_hooks \u001B[39mor\u001B[39;00m _global_backward_hooks\n\u001B[1;32m   1193\u001B[0m         \u001B[39mor\u001B[39;00m _global_forward_hooks \u001B[39mor\u001B[39;00m _global_forward_pre_hooks):\n\u001B[0;32m-> 1194\u001B[0m     \u001B[39mreturn\u001B[39;00m forward_call(\u001B[39m*\u001B[39;49m\u001B[39minput\u001B[39;49m, \u001B[39m*\u001B[39;49m\u001B[39m*\u001B[39;49mkwargs)\n\u001B[1;32m   1195\u001B[0m \u001B[39m# Do not call functions when jit is used\u001B[39;00m\n\u001B[1;32m   1196\u001B[0m full_backward_hooks, non_full_backward_hooks \u001B[39m=\u001B[39m [], []\n",
      "File \u001B[0;32m/opt/anaconda3/envs/ai-tech2/lib/python3.9/site-packages/torch/nn/modules/conv.py:463\u001B[0m, in \u001B[0;36mConv2d.forward\u001B[0;34m(self, input)\u001B[0m\n\u001B[1;32m    462\u001B[0m \u001B[39mdef\u001B[39;00m \u001B[39mforward\u001B[39m(\u001B[39mself\u001B[39m, \u001B[39minput\u001B[39m: Tensor) \u001B[39m-\u001B[39m\u001B[39m>\u001B[39m Tensor:\n\u001B[0;32m--> 463\u001B[0m     \u001B[39mreturn\u001B[39;00m \u001B[39mself\u001B[39;49m\u001B[39m.\u001B[39;49m_conv_forward(\u001B[39minput\u001B[39;49m, \u001B[39mself\u001B[39;49m\u001B[39m.\u001B[39;49mweight, \u001B[39mself\u001B[39;49m\u001B[39m.\u001B[39;49mbias)\n",
      "File \u001B[0;32m/opt/anaconda3/envs/ai-tech2/lib/python3.9/site-packages/torch/nn/modules/conv.py:459\u001B[0m, in \u001B[0;36mConv2d._conv_forward\u001B[0;34m(self, input, weight, bias)\u001B[0m\n\u001B[1;32m    455\u001B[0m \u001B[39mif\u001B[39;00m \u001B[39mself\u001B[39m\u001B[39m.\u001B[39mpadding_mode \u001B[39m!=\u001B[39m \u001B[39m'\u001B[39m\u001B[39mzeros\u001B[39m\u001B[39m'\u001B[39m:\n\u001B[1;32m    456\u001B[0m     \u001B[39mreturn\u001B[39;00m F\u001B[39m.\u001B[39mconv2d(F\u001B[39m.\u001B[39mpad(\u001B[39minput\u001B[39m, \u001B[39mself\u001B[39m\u001B[39m.\u001B[39m_reversed_padding_repeated_twice, mode\u001B[39m=\u001B[39m\u001B[39mself\u001B[39m\u001B[39m.\u001B[39mpadding_mode),\n\u001B[1;32m    457\u001B[0m                     weight, bias, \u001B[39mself\u001B[39m\u001B[39m.\u001B[39mstride,\n\u001B[1;32m    458\u001B[0m                     _pair(\u001B[39m0\u001B[39m), \u001B[39mself\u001B[39m\u001B[39m.\u001B[39mdilation, \u001B[39mself\u001B[39m\u001B[39m.\u001B[39mgroups)\n\u001B[0;32m--> 459\u001B[0m \u001B[39mreturn\u001B[39;00m F\u001B[39m.\u001B[39;49mconv2d(\u001B[39minput\u001B[39;49m, weight, bias, \u001B[39mself\u001B[39;49m\u001B[39m.\u001B[39;49mstride,\n\u001B[1;32m    460\u001B[0m                 \u001B[39mself\u001B[39;49m\u001B[39m.\u001B[39;49mpadding, \u001B[39mself\u001B[39;49m\u001B[39m.\u001B[39;49mdilation, \u001B[39mself\u001B[39;49m\u001B[39m.\u001B[39;49mgroups)\n",
      "\u001B[0;31mKeyboardInterrupt\u001B[0m: "
     ]
    }
   ],
   "source": [
    "train_resnet_features, train_resnet_labels = model_resnet.extract_features(\n",
    "    dataloader=dm_resnet.train_dataloader()\n",
    ")\n",
    "test_resnet_features, test_resnet_labels = model_resnet.extract_features(\n",
    "    dataloader=dm_resnet.test_dataloader()\n",
    ")"
   ]
  },
  {
   "attachments": {},
   "cell_type": "markdown",
   "metadata": {},
   "source": [
    "## UMAP\n",
    "\n",
    "Uniform Manifold Approximation and Projection (UMAP) is a dimension reduction technique that can be used for visualisation similarly to t-SNE, but also for general non-linear dimension reduction. The algorithm is founded on three assumptions about the data\n",
    "\n",
    "- The data is uniformly distributed on Riemannian manifold;\n",
    "- The Riemannian metric is locally constant (or can be approximated as such);\n",
    "- The manifold is locally connected.\n",
    "\n",
    "From these assumptions it is possible to model the manifold with a fuzzy topological structure. The embedding is found by searching for a low dimensional projection of the data that has the closest possible equivalent fuzzy topological structure."
   ]
  },
  {
   "cell_type": "code",
   "execution_count": null,
   "metadata": {},
   "outputs": [
    {
     "name": "stderr",
     "output_type": "stream",
     "text": [
      "OMP: Info #276: omp_set_nested routine deprecated, please use omp_set_max_active_levels instead.\n"
     ]
    }
   ],
   "source": [
    "resnet_mapper = umap.UMAP().fit(train_resnet_features)\n",
    "projected_resnet_features = resnet_mapper.transform(test_resnet_features)"
   ]
  },
  {
   "cell_type": "code",
   "execution_count": null,
   "metadata": {},
   "outputs": [
    {
     "data": {
      "text/plain": [
       "<Axes: >"
      ]
     },
     "execution_count": 48,
     "metadata": {},
     "output_type": "execute_result"
    },
    {
     "data": {
      "image/png": "[encoded data removed]",
      "text/plain": [
       "<Figure size 640x480 with 1 Axes>"
      ]
     },
     "metadata": {},
     "output_type": "display_data"
    }
   ],
   "source": [
    "sns.scatterplot(\n",
    "    x=projected_resnet_features[:, 0],\n",
    "    y=projected_resnet_features[:, 1],\n",
    "    hue=test_resnet_labels,\n",
    "    palette=\"deep\",\n",
    ")"
   ]
  },
  {
   "cell_type": "markdown",
   "metadata": {},
   "source": [
    "# Self-supervised"
   ]
  },
  {
   "cell_type": "markdown",
   "metadata": {},
   "source": [
    "Self-supervised learning offers a compelling solution as it utilizes the input data itself as supervision, eliminating the reliance on external labels. It uses self-defined signals to create a proxy objective between input and signal. The signal used in self-supervised learning acts as a guiding principle, influencing the choice of architecture and methodology for the representation learning task."
   ]
  },
  {
   "cell_type": "markdown",
   "metadata": {},
   "source": [
    "### Generative"
   ]
  },
  {
   "cell_type": "markdown",
   "metadata": {},
   "source": [
    "![image.png](https://www.researchgate.net/publication/355850728/figure/fig4/AS:1085699449200644@1635862328517/Examples-of-generative-models-From-top-to-bottom-Variational-Autoencoder-VAE-and.png)\n",
    "\n",
    "Examples of generative models. From [1].\n",
    "\n",
    "[1] Defresne, Marianne & Barbe, Sophie & Schiex, Thomas. (2021). Protein Design with Deep Learning. International Journal of Molecular Sciences. 22. 11741. 10.3390/ijms222111741. "
   ]
  },
  {
   "cell_type": "markdown",
   "metadata": {},
   "source": [
    "Generative models are based reconstruction and typically learn by maximizing the likelihood of generating reconstructed data from the input. \n",
    "\n",
    "The main advantage of generative approaches is their ability to capture the full data distribution and generate new samples. While generative models can provide valuable insights into the data distribution, they may not always produce representations that are directly optimized for discriminative tasks [2]. \n",
    "\n",
    "The most common examples of generative architectures include autoencoders, variational autoencoders (VAEs) [3], generative adversarial networks (GANs) [4], or flow-based models [5]. \n",
    "\n",
    "Autoencoders are neural networks that learn to encode input data into a lower-dimensional representation (encoder) and then reconstruct the original input from the encoded representation (decoder). \n",
    "\n",
    "VAEs are a variation of autoencoders that incorporate probabilistic modeling and are salient from the perspective of this research proposal. They learn to generate data by sampling from a latent space distribution and reconstructing the input data. VAEs are trained by maximizing a lower bound on the log-likelihood of the data, encouraging the learned latent space to capture meaningful variations in the data. \n",
    "\n",
    "[2] Liu, Xiao, et al. \"Self-supervised learning: Generative or contrastive.\" IEEE Transactions on Knowledge and Data Engineering 35.1 (2021): 857-876.\n",
    "[3]\n",
    "[4]\n",
    "[5]"
   ]
  },
  {
   "cell_type": "markdown",
   "metadata": {},
   "source": [
    "### Autoencoder"
   ]
  },
  {
   "cell_type": "markdown",
   "metadata": {},
   "source": [
    "In general, an autoencoder consists of an encoder that maps the input x to a lower-dimensional feature vector z, and a decoder that reconstructs the input $\\hat{x}$ from $z$. We train the model by comparing $x$ to $\\hat{x}$ and optimizing the parameters to increase the similarity between x and $\\hat{x}$. See below for a small illustration of the autoencoder framework.\n",
    "\n",
    "<img src=\"https://lilianweng.github.io/posts/2018-08-12-vae/autoencoder-architecture.png\"  width=\"60%\">\n",
    "\n",
    "Credits: [Lilian Weng's blog post about VAEs](https://lilianweng.github.io/posts/2018-08-12-vae/)"
   ]
  },
  {
   "cell_type": "markdown",
   "metadata": {},
   "source": [
    "Let's create datamodule. This time we will use different transforms for our dataset. In this case, we do not normalize the data explicitly with a mean of 0 and std of 1 (as in supervised case), but roughly estimate it scaling the data between -1 and 1. This is because limiting the range will make our task of predicting/reconstructing images easier."
   ]
  },
  {
   "cell_type": "code",
   "execution_count": 13,
   "metadata": {},
   "outputs": [],
   "source": [
    "transforms = torchvision.transforms.Compose(\n",
    "    [\n",
    "        torchvision.transforms.ToTensor(),\n",
    "        torchvision.transforms.Normalize((0.5,), (0.5,)),\n",
    "    ]\n",
    ")\n",
    "\n",
    "dm_ae = CIFAR10DataModule(\n",
    "    data_dir=DATASET_PATH,\n",
    "    batch_size=256,\n",
    "    num_workers=4,\n",
    "    train_transforms=transforms,\n",
    "    test_transforms=transforms,\n",
    "    val_transforms=transforms,\n",
    ")\n",
    "dm_ae.setup()"
   ]
  },
  {
   "cell_type": "markdown",
   "metadata": {},
   "source": [
    "Here, we will follow [lightning-bolts](https://lightning-bolts.readthedocs.io/en/latest/models/autoencoders.html#basic-ae) library to implement our own autoencoder.\n",
    "\n",
    "We will use an autoencoder already pretrained on CIFAR10 with resnet18 backbone.\n"
   ]
  },
  {
   "cell_type": "code",
   "execution_count": 10,
   "metadata": {},
   "outputs": [
    {
     "name": "stderr",
     "output_type": "stream",
     "text": [
      "/var/folders/ng/6_1zhqwn18sbhwvrkn_9fcxr0000gn/T/ipykernel_20043/4261973159.py:3: UnderReviewWarning: The feature AE is currently marked under review. The compatibility with other Lightning projects is not guaranteed and API may change at any time. The API and functionality may change without warning in future releases. More details: https://lightning-bolts.readthedocs.io/en/latest/stability.html\n",
      "  ae = AE(input_height=32)\n",
      "/opt/anaconda3/envs/ai-tech2/lib/python3.9/site-packages/pl_bolts/models/autoencoders/basic_ae/basic_ae_module.py:86: UnderReviewWarning: The feature resnet18_encoder is currently marked under review. The compatibility with other Lightning projects is not guaranteed and API may change at any time. The API and functionality may change without warning in future releases. More details: https://lightning-bolts.readthedocs.io/en/latest/stability.html\n",
      "  self.encoder = valid_encoders[enc_type][\"enc\"](first_conv, maxpool1)\n",
      "/opt/anaconda3/envs/ai-tech2/lib/python3.9/site-packages/pl_bolts/models/autoencoders/components.py:334: UnderReviewWarning: The feature ResNetEncoder is currently marked under review. The compatibility with other Lightning projects is not guaranteed and API may change at any time. The API and functionality may change without warning in future releases. More details: https://lightning-bolts.readthedocs.io/en/latest/stability.html\n",
      "  return ResNetEncoder(EncoderBlock, [2, 2, 2, 2], first_conv, maxpool1)\n",
      "/opt/anaconda3/envs/ai-tech2/lib/python3.9/site-packages/pl_bolts/models/autoencoders/components.py:236: UnderReviewWarning: The feature EncoderBlock is currently marked under review. The compatibility with other Lightning projects is not guaranteed and API may change at any time. The API and functionality may change without warning in future releases. More details: https://lightning-bolts.readthedocs.io/en/latest/stability.html\n",
      "  layers.append(block(self.inplanes, planes, stride, downsample))\n",
      "/opt/anaconda3/envs/ai-tech2/lib/python3.9/site-packages/pl_bolts/models/autoencoders/components.py:56: UnderReviewWarning: The feature conv3x3 is currently marked under review. The compatibility with other Lightning projects is not guaranteed and API may change at any time. The API and functionality may change without warning in future releases. More details: https://lightning-bolts.readthedocs.io/en/latest/stability.html\n",
      "  self.conv1 = conv3x3(inplanes, planes, stride)\n",
      "/opt/anaconda3/envs/ai-tech2/lib/python3.9/site-packages/pl_bolts/models/autoencoders/components.py:231: UnderReviewWarning: The feature conv1x1 is currently marked under review. The compatibility with other Lightning projects is not guaranteed and API may change at any time. The API and functionality may change without warning in future releases. More details: https://lightning-bolts.readthedocs.io/en/latest/stability.html\n",
      "  conv1x1(self.inplanes, planes * block.expansion, stride),\n",
      "/opt/anaconda3/envs/ai-tech2/lib/python3.9/site-packages/pl_bolts/models/autoencoders/basic_ae/basic_ae_module.py:87: UnderReviewWarning: The feature resnet18_decoder is currently marked under review. The compatibility with other Lightning projects is not guaranteed and API may change at any time. The API and functionality may change without warning in future releases. More details: https://lightning-bolts.readthedocs.io/en/latest/stability.html\n",
      "  self.decoder = valid_encoders[enc_type][\"dec\"](self.latent_dim, self.input_height, first_conv, maxpool1)\n",
      "/opt/anaconda3/envs/ai-tech2/lib/python3.9/site-packages/pl_bolts/models/autoencoders/components.py:339: UnderReviewWarning: The feature ResNetDecoder is currently marked under review. The compatibility with other Lightning projects is not guaranteed and API may change at any time. The API and functionality may change without warning in future releases. More details: https://lightning-bolts.readthedocs.io/en/latest/stability.html\n",
      "  return ResNetDecoder(DecoderBlock, [2, 2, 2, 2], latent_dim, input_height, first_conv, maxpool1)\n",
      "/opt/anaconda3/envs/ai-tech2/lib/python3.9/site-packages/pl_bolts/models/autoencoders/components.py:301: UnderReviewWarning: The feature resize_conv1x1 is currently marked under review. The compatibility with other Lightning projects is not guaranteed and API may change at any time. The API and functionality may change without warning in future releases. More details: https://lightning-bolts.readthedocs.io/en/latest/stability.html\n",
      "  resize_conv1x1(self.inplanes, planes * block.expansion, scale),\n",
      "/opt/anaconda3/envs/ai-tech2/lib/python3.9/site-packages/pl_bolts/models/autoencoders/components.py:45: UnderReviewWarning: The feature Interpolate is currently marked under review. The compatibility with other Lightning projects is not guaranteed and API may change at any time. The API and functionality may change without warning in future releases. More details: https://lightning-bolts.readthedocs.io/en/latest/stability.html\n",
      "  return nn.Sequential(Interpolate(scale_factor=scale), conv1x1(in_planes, out_planes))\n",
      "/opt/anaconda3/envs/ai-tech2/lib/python3.9/site-packages/pl_bolts/models/autoencoders/components.py:306: UnderReviewWarning: The feature DecoderBlock is currently marked under review. The compatibility with other Lightning projects is not guaranteed and API may change at any time. The API and functionality may change without warning in future releases. More details: https://lightning-bolts.readthedocs.io/en/latest/stability.html\n",
      "  layers.append(block(self.inplanes, planes, scale, upsample))\n",
      "/opt/anaconda3/envs/ai-tech2/lib/python3.9/site-packages/pl_bolts/models/autoencoders/components.py:132: UnderReviewWarning: The feature resize_conv3x3 is currently marked under review. The compatibility with other Lightning projects is not guaranteed and API may change at any time. The API and functionality may change without warning in future releases. More details: https://lightning-bolts.readthedocs.io/en/latest/stability.html\n",
      "  self.conv1 = resize_conv3x3(inplanes, inplanes)\n"
     ]
    },
    {
     "name": "stdout",
     "output_type": "stream",
     "text": [
      "['cifar10-resnet18']\n"
     ]
    },
    {
     "name": "stderr",
     "output_type": "stream",
     "text": [
      "/opt/anaconda3/envs/ai-tech2/lib/python3.9/site-packages/pytorch_lightning/core/saving.py:224: UnderReviewWarning: The feature AE is currently marked under review. The compatibility with other Lightning projects is not guaranteed and API may change at any time. The API and functionality may change without warning in future releases. More details: https://lightning-bolts.readthedocs.io/en/latest/stability.html\n",
      "  obj = cls(**_cls_kwargs)\n"
     ]
    }
   ],
   "source": [
    "from pl_bolts.models.autoencoders import AE\n",
    "\n",
    "ae = AE(input_height=32)\n",
    "print(AE.pretrained_weights_available())\n",
    "ae = ae.from_pretrained(\"cifar10-resnet18\")\n",
    "\n",
    "ae.freeze()"
   ]
  },
  {
   "cell_type": "markdown",
   "metadata": {},
   "source": [
    "## Exercise:\n",
    "Similarly as in supervised case, implement a function that extract features from the autoencoder model. Then follow and extract the features."
   ]
  },
  {
   "cell_type": "code",
   "execution_count": null,
   "metadata": {},
   "outputs": [],
   "source": [
    "class MyAE(AE):\n",
    "    device = (\n",
    "        torch.device(\"cuda:0\") if torch.cuda.is_available() else torch.device(\"cpu\")\n",
    "    )\n",
    "\n",
    "    def _forward_features(self, x: torch.Tensor) -> torch.Tensor:\n",
    "        raise NotImplementedError\n",
    "\n",
    "    def extract_features(\n",
    "        self, dataloader: DataLoader\n",
    "    ) -> tuple[torch.Tensor, torch.Tensor]:\n",
    "        features = []\n",
    "        labels = []\n",
    "        for batch in tqdm.tqdm(dataloader, total=len(dataloader)):\n",
    "            x, y = batch\n",
    "            with torch.no_grad():\n",
    "                batch_feats = self._forward_features(x.to(self.device)).cpu()\n",
    "            features.append(batch_feats)\n",
    "            labels.append(y)\n",
    "        features = torch.vstack(features)\n",
    "        labels = torch.hstack(labels)\n",
    "        return features, labels"
   ]
  },
  {
   "cell_type": "code",
   "execution_count": 110,
   "metadata": {},
   "outputs": [
    {
     "name": "stderr",
     "output_type": "stream",
     "text": [
      "/var/folders/ng/6_1zhqwn18sbhwvrkn_9fcxr0000gn/T/ipykernel_20043/2400462121.py:1: UnderReviewWarning: The feature AE is currently marked under review. The compatibility with other Lightning projects is not guaranteed and API may change at any time. The API and functionality may change without warning in future releases. More details: https://lightning-bolts.readthedocs.io/en/latest/stability.html\n",
      "  model_ae = MyAE(input_height=32)\n",
      "/opt/anaconda3/envs/ai-tech2/lib/python3.9/site-packages/pl_bolts/models/autoencoders/basic_ae/basic_ae_module.py:86: UnderReviewWarning: The feature resnet18_encoder is currently marked under review. The compatibility with other Lightning projects is not guaranteed and API may change at any time. The API and functionality may change without warning in future releases. More details: https://lightning-bolts.readthedocs.io/en/latest/stability.html\n",
      "  self.encoder = valid_encoders[enc_type][\"enc\"](first_conv, maxpool1)\n",
      "/opt/anaconda3/envs/ai-tech2/lib/python3.9/site-packages/pl_bolts/models/autoencoders/components.py:334: UnderReviewWarning: The feature ResNetEncoder is currently marked under review. The compatibility with other Lightning projects is not guaranteed and API may change at any time. The API and functionality may change without warning in future releases. More details: https://lightning-bolts.readthedocs.io/en/latest/stability.html\n",
      "  return ResNetEncoder(EncoderBlock, [2, 2, 2, 2], first_conv, maxpool1)\n",
      "/opt/anaconda3/envs/ai-tech2/lib/python3.9/site-packages/pl_bolts/models/autoencoders/components.py:236: UnderReviewWarning: The feature EncoderBlock is currently marked under review. The compatibility with other Lightning projects is not guaranteed and API may change at any time. The API and functionality may change without warning in future releases. More details: https://lightning-bolts.readthedocs.io/en/latest/stability.html\n",
      "  layers.append(block(self.inplanes, planes, stride, downsample))\n",
      "/opt/anaconda3/envs/ai-tech2/lib/python3.9/site-packages/pl_bolts/models/autoencoders/components.py:56: UnderReviewWarning: The feature conv3x3 is currently marked under review. The compatibility with other Lightning projects is not guaranteed and API may change at any time. The API and functionality may change without warning in future releases. More details: https://lightning-bolts.readthedocs.io/en/latest/stability.html\n",
      "  self.conv1 = conv3x3(inplanes, planes, stride)\n",
      "/opt/anaconda3/envs/ai-tech2/lib/python3.9/site-packages/pl_bolts/models/autoencoders/components.py:231: UnderReviewWarning: The feature conv1x1 is currently marked under review. The compatibility with other Lightning projects is not guaranteed and API may change at any time. The API and functionality may change without warning in future releases. More details: https://lightning-bolts.readthedocs.io/en/latest/stability.html\n",
      "  conv1x1(self.inplanes, planes * block.expansion, stride),\n",
      "/opt/anaconda3/envs/ai-tech2/lib/python3.9/site-packages/pl_bolts/models/autoencoders/basic_ae/basic_ae_module.py:87: UnderReviewWarning: The feature resnet18_decoder is currently marked under review. The compatibility with other Lightning projects is not guaranteed and API may change at any time. The API and functionality may change without warning in future releases. More details: https://lightning-bolts.readthedocs.io/en/latest/stability.html\n",
      "  self.decoder = valid_encoders[enc_type][\"dec\"](self.latent_dim, self.input_height, first_conv, maxpool1)\n",
      "/opt/anaconda3/envs/ai-tech2/lib/python3.9/site-packages/pl_bolts/models/autoencoders/components.py:339: UnderReviewWarning: The feature ResNetDecoder is currently marked under review. The compatibility with other Lightning projects is not guaranteed and API may change at any time. The API and functionality may change without warning in future releases. More details: https://lightning-bolts.readthedocs.io/en/latest/stability.html\n",
      "  return ResNetDecoder(DecoderBlock, [2, 2, 2, 2], latent_dim, input_height, first_conv, maxpool1)\n",
      "/opt/anaconda3/envs/ai-tech2/lib/python3.9/site-packages/pl_bolts/models/autoencoders/components.py:301: UnderReviewWarning: The feature resize_conv1x1 is currently marked under review. The compatibility with other Lightning projects is not guaranteed and API may change at any time. The API and functionality may change without warning in future releases. More details: https://lightning-bolts.readthedocs.io/en/latest/stability.html\n",
      "  resize_conv1x1(self.inplanes, planes * block.expansion, scale),\n",
      "/opt/anaconda3/envs/ai-tech2/lib/python3.9/site-packages/pl_bolts/models/autoencoders/components.py:45: UnderReviewWarning: The feature Interpolate is currently marked under review. The compatibility with other Lightning projects is not guaranteed and API may change at any time. The API and functionality may change without warning in future releases. More details: https://lightning-bolts.readthedocs.io/en/latest/stability.html\n",
      "  return nn.Sequential(Interpolate(scale_factor=scale), conv1x1(in_planes, out_planes))\n",
      "/opt/anaconda3/envs/ai-tech2/lib/python3.9/site-packages/pl_bolts/models/autoencoders/components.py:306: UnderReviewWarning: The feature DecoderBlock is currently marked under review. The compatibility with other Lightning projects is not guaranteed and API may change at any time. The API and functionality may change without warning in future releases. More details: https://lightning-bolts.readthedocs.io/en/latest/stability.html\n",
      "  layers.append(block(self.inplanes, planes, scale, upsample))\n",
      "/opt/anaconda3/envs/ai-tech2/lib/python3.9/site-packages/pl_bolts/models/autoencoders/components.py:132: UnderReviewWarning: The feature resize_conv3x3 is currently marked under review. The compatibility with other Lightning projects is not guaranteed and API may change at any time. The API and functionality may change without warning in future releases. More details: https://lightning-bolts.readthedocs.io/en/latest/stability.html\n",
      "  self.conv1 = resize_conv3x3(inplanes, inplanes)\n"
     ]
    },
    {
     "name": "stdout",
     "output_type": "stream",
     "text": [
      "['cifar10-resnet18']\n"
     ]
    },
    {
     "name": "stderr",
     "output_type": "stream",
     "text": [
      "/opt/anaconda3/envs/ai-tech2/lib/python3.9/site-packages/pytorch_lightning/core/saving.py:224: UnderReviewWarning: The feature AE is currently marked under review. The compatibility with other Lightning projects is not guaranteed and API may change at any time. The API and functionality may change without warning in future releases. More details: https://lightning-bolts.readthedocs.io/en/latest/stability.html\n",
      "  obj = cls(**_cls_kwargs)\n"
     ]
    }
   ],
   "source": [
    "model_ae = MyAE(input_height=32)\n",
    "print(AE.pretrained_weights_available())\n",
    "model_ae = model_ae.from_pretrained(\"cifar10-resnet18\")\n",
    "model_ae = model_ae.to(device)\n",
    "\n",
    "model_ae.freeze()"
   ]
  },
  {
   "cell_type": "code",
   "execution_count": null,
   "metadata": {},
   "outputs": [
    {
     "name": "stderr",
     "output_type": "stream",
     "text": [
      "100%|██████████| 40/40 [01:18<00:00,  1.97s/it]\n"
     ]
    }
   ],
   "source": [
    "train_ae_features, train_ae_labels = model_ae.extract_features(\n",
    "    dataloader=dm_ae.train_dataloader()\n",
    ")\n",
    "test_ae_features, test_ae_labels = model_ae.extract_features(\n",
    "    dataloader=dm_ae.test_dataloader()\n",
    ")"
   ]
  },
  {
   "cell_type": "markdown",
   "metadata": {},
   "source": [
    "## UMAP"
   ]
  },
  {
   "cell_type": "code",
   "execution_count": null,
   "metadata": {},
   "outputs": [],
   "source": [
    "ae_mapper = umap.UMAP().fit(train_ae_features)\n",
    "projected_ae_features = ae_mapper.transform(test_ae_features)"
   ]
  },
  {
   "cell_type": "code",
   "execution_count": null,
   "metadata": {
    "collapsed": false,
    "jupyter": {
     "outputs_hidden": false
    }
   },
   "outputs": [
    {
     "data": {
      "text/plain": [
       "torch.Size([10000, 512])"
      ]
     },
     "execution_count": 44,
     "metadata": {},
     "output_type": "execute_result"
    }
   ],
   "source": [
    "sns.scatterplot(\n",
    "    x=projected_ae_features[:, 0],\n",
    "    y=projected_ae_features[:, 1],\n",
    "    hue=test_ae_labels,\n",
    "    palette=\"deep\",\n",
    ")"
   ]
  },
  {
   "cell_type": "markdown",
   "metadata": {},
   "source": [
    "## Discriminative performance \n",
    "\n",
    "Let's now check discriminative performance of our variatipnal autoencoder to see whether there is correlation between OOD detection ability and discriminative power of a representation. Let's also see whether it produces better representations in comparison to regular autoencoder."
   ]
  },
  {
   "cell_type": "markdown",
   "metadata": {},
   "source": [
    "### Exercise \n",
    "Implement AEClassifier in PyTorch Lightning to train a simple classifier with representation from autoencoder latent space.\n",
    "\n",
    "We will use BaseClassifier class so we only need to implement `__init__` and `forward` methods.\n",
    "\n",
    "Then follow and fit and test the classifier."
   ]
  },
  {
   "cell_type": "code",
   "execution_count": 108,
   "metadata": {},
   "outputs": [],
   "source": [
    "from src.model.base_classifier import BaseClassifier\n",
    "\n",
    "class AEClassifier(BaseClassifier):\n",
    "    def __init__(\n",
    "        self,\n",
    "        model: AE,\n",
    "        lr: float = 1e-3,\n",
    "        batch_size: int = 256,\n",
    "    ):\n",
    "        super().__init__()\n",
    "        self.save_hyperparameters(ignore=[\"model\"])\n",
    "\n",
    "        self.model = model\n",
    "\n",
    "        # the autoencoder outputs a 512-dim representation and CIFAR-10 has 10 classes\n",
    "        self.classifier = ...\n",
    "\n",
    "    def forward(self, x: torch.Tensor) -> torch.Tensor:\n",
    "        raise NotImplementedError"
   ]
  },
  {
   "cell_type": "code",
   "execution_count": 17,
   "metadata": {},
   "outputs": [
    {
     "name": "stderr",
     "output_type": "stream",
     "text": [
      "GPU available: False, used: False\n",
      "TPU available: False, using: 0 TPU cores\n",
      "IPU available: False, using: 0 IPUs\n",
      "HPU available: False, using: 0 HPUs\n"
     ]
    },
    {
     "name": "stdout",
     "output_type": "stream",
     "text": [
      "Files already downloaded and verified\n",
      "Files already downloaded and verified\n"
     ]
    },
    {
     "name": "stderr",
     "output_type": "stream",
     "text": [
      "\n",
      "  | Name       | Type   | Params\n",
      "--------------------------------------\n",
      "0 | model      | AE     | 19.9 M\n",
      "1 | classifier | Linear | 5.1 K \n",
      "--------------------------------------\n",
      "5.1 K     Trainable params\n",
      "19.9 M    Non-trainable params\n",
      "19.9 M    Total params\n",
      "79.724    Total estimated model params size (MB)\n"
     ]
    },
    {
     "data": {
      "application/vnd.jupyter.widget-view+json": {
       "model_id": "c28d9a00b7644748bac209abaf74b54f",
       "version_major": 2,
       "version_minor": 0
      },
      "text/plain": [
       "Sanity Checking: 0it [00:00, ?it/s]"
      ]
     },
     "metadata": {},
     "output_type": "display_data"
    },
    {
     "data": {
      "application/vnd.jupyter.widget-view+json": {
       "model_id": "210fefcc24474aa18fb2bc0b6981208e",
       "version_major": 2,
       "version_minor": 0
      },
      "text/plain": [
       "Training: 0it [00:00, ?it/s]"
      ]
     },
     "metadata": {},
     "output_type": "display_data"
    },
    {
     "name": "stderr",
     "output_type": "stream",
     "text": [
      "/opt/anaconda3/envs/ai-tech2/lib/python3.9/site-packages/pytorch_lightning/trainer/call.py:48: UserWarning: Detected KeyboardInterrupt, attempting graceful shutdown...\n",
      "  rank_zero_warn(\"Detected KeyboardInterrupt, attempting graceful shutdown...\")\n"
     ]
    }
   ],
   "source": [
    "ae_clf = AEClassifier(model=model_ae, lr=1e-2)\n",
    "\n",
    "trainer = Trainer(\n",
    "    max_epochs=5,\n",
    "    accelerator=\"auto\",\n",
    "    devices=1,\n",
    ")\n",
    "\n",
    "trainer.fit(ae_clf, dm_ae)\n",
    "trainer.test(ae_clf, dm_ae)"
   ]
  },
  {
   "cell_type": "markdown",
   "metadata": {},
   "source": [
    "### Varational autoencoder\n",
    "\n",
    "Variational autoencoders (VAEs) are generative models that combine the power of autoencoders with probabilistic inference. They learn to encode input data into a lower-dimensional latent space, capturing its underlying distribution, and then decode it back into reconstructed data. VAEs employ variational inference to optimize the latent space by maximizing the evidence lower bound, enabling them to generate new data samples and perform meaningful data manipulation.\n",
    "\n",
    "<img src=\"https://lilianweng.github.io/posts/2018-08-12-vae/vae-gaussian.png\"  width=\"60%\">\n",
    "\n",
    "Credits: [Lilian Weng's blog post about VAEs](https://lilianweng.github.io/posts/2018-08-12-vae/)\n"
   ]
  },
  {
   "cell_type": "code",
   "execution_count": 18,
   "metadata": {},
   "outputs": [
    {
     "name": "stderr",
     "output_type": "stream",
     "text": [
      "/var/folders/ng/6_1zhqwn18sbhwvrkn_9fcxr0000gn/T/ipykernel_20043/666860153.py:3: UnderReviewWarning: The feature VAE is currently marked under review. The compatibility with other Lightning projects is not guaranteed and API may change at any time. The API and functionality may change without warning in future releases. More details: https://lightning-bolts.readthedocs.io/en/latest/stability.html\n",
      "  vae = VAE(input_height=32)\n",
      "/opt/anaconda3/envs/ai-tech2/lib/python3.9/site-packages/pl_bolts/models/autoencoders/basic_vae/basic_vae_module.py:93: UnderReviewWarning: The feature resnet18_encoder is currently marked under review. The compatibility with other Lightning projects is not guaranteed and API may change at any time. The API and functionality may change without warning in future releases. More details: https://lightning-bolts.readthedocs.io/en/latest/stability.html\n",
      "  self.encoder = valid_encoders[enc_type][\"enc\"](first_conv, maxpool1)\n",
      "/opt/anaconda3/envs/ai-tech2/lib/python3.9/site-packages/pl_bolts/models/autoencoders/components.py:334: UnderReviewWarning: The feature ResNetEncoder is currently marked under review. The compatibility with other Lightning projects is not guaranteed and API may change at any time. The API and functionality may change without warning in future releases. More details: https://lightning-bolts.readthedocs.io/en/latest/stability.html\n",
      "  return ResNetEncoder(EncoderBlock, [2, 2, 2, 2], first_conv, maxpool1)\n",
      "/opt/anaconda3/envs/ai-tech2/lib/python3.9/site-packages/pl_bolts/models/autoencoders/components.py:236: UnderReviewWarning: The feature EncoderBlock is currently marked under review. The compatibility with other Lightning projects is not guaranteed and API may change at any time. The API and functionality may change without warning in future releases. More details: https://lightning-bolts.readthedocs.io/en/latest/stability.html\n",
      "  layers.append(block(self.inplanes, planes, stride, downsample))\n",
      "/opt/anaconda3/envs/ai-tech2/lib/python3.9/site-packages/pl_bolts/models/autoencoders/components.py:56: UnderReviewWarning: The feature conv3x3 is currently marked under review. The compatibility with other Lightning projects is not guaranteed and API may change at any time. The API and functionality may change without warning in future releases. More details: https://lightning-bolts.readthedocs.io/en/latest/stability.html\n",
      "  self.conv1 = conv3x3(inplanes, planes, stride)\n",
      "/opt/anaconda3/envs/ai-tech2/lib/python3.9/site-packages/pl_bolts/models/autoencoders/components.py:231: UnderReviewWarning: The feature conv1x1 is currently marked under review. The compatibility with other Lightning projects is not guaranteed and API may change at any time. The API and functionality may change without warning in future releases. More details: https://lightning-bolts.readthedocs.io/en/latest/stability.html\n",
      "  conv1x1(self.inplanes, planes * block.expansion, stride),\n",
      "/opt/anaconda3/envs/ai-tech2/lib/python3.9/site-packages/pl_bolts/models/autoencoders/basic_vae/basic_vae_module.py:94: UnderReviewWarning: The feature resnet18_decoder is currently marked under review. The compatibility with other Lightning projects is not guaranteed and API may change at any time. The API and functionality may change without warning in future releases. More details: https://lightning-bolts.readthedocs.io/en/latest/stability.html\n",
      "  self.decoder = valid_encoders[enc_type][\"dec\"](self.latent_dim, self.input_height, first_conv, maxpool1)\n",
      "/opt/anaconda3/envs/ai-tech2/lib/python3.9/site-packages/pl_bolts/models/autoencoders/components.py:339: UnderReviewWarning: The feature ResNetDecoder is currently marked under review. The compatibility with other Lightning projects is not guaranteed and API may change at any time. The API and functionality may change without warning in future releases. More details: https://lightning-bolts.readthedocs.io/en/latest/stability.html\n",
      "  return ResNetDecoder(DecoderBlock, [2, 2, 2, 2], latent_dim, input_height, first_conv, maxpool1)\n",
      "/opt/anaconda3/envs/ai-tech2/lib/python3.9/site-packages/pl_bolts/models/autoencoders/components.py:301: UnderReviewWarning: The feature resize_conv1x1 is currently marked under review. The compatibility with other Lightning projects is not guaranteed and API may change at any time. The API and functionality may change without warning in future releases. More details: https://lightning-bolts.readthedocs.io/en/latest/stability.html\n",
      "  resize_conv1x1(self.inplanes, planes * block.expansion, scale),\n",
      "/opt/anaconda3/envs/ai-tech2/lib/python3.9/site-packages/pl_bolts/models/autoencoders/components.py:45: UnderReviewWarning: The feature Interpolate is currently marked under review. The compatibility with other Lightning projects is not guaranteed and API may change at any time. The API and functionality may change without warning in future releases. More details: https://lightning-bolts.readthedocs.io/en/latest/stability.html\n",
      "  return nn.Sequential(Interpolate(scale_factor=scale), conv1x1(in_planes, out_planes))\n",
      "/opt/anaconda3/envs/ai-tech2/lib/python3.9/site-packages/pl_bolts/models/autoencoders/components.py:306: UnderReviewWarning: The feature DecoderBlock is currently marked under review. The compatibility with other Lightning projects is not guaranteed and API may change at any time. The API and functionality may change without warning in future releases. More details: https://lightning-bolts.readthedocs.io/en/latest/stability.html\n",
      "  layers.append(block(self.inplanes, planes, scale, upsample))\n",
      "/opt/anaconda3/envs/ai-tech2/lib/python3.9/site-packages/pl_bolts/models/autoencoders/components.py:132: UnderReviewWarning: The feature resize_conv3x3 is currently marked under review. The compatibility with other Lightning projects is not guaranteed and API may change at any time. The API and functionality may change without warning in future releases. More details: https://lightning-bolts.readthedocs.io/en/latest/stability.html\n",
      "  self.conv1 = resize_conv3x3(inplanes, inplanes)\n"
     ]
    },
    {
     "name": "stdout",
     "output_type": "stream",
     "text": [
      "['cifar10-resnet18', 'stl10-resnet18']\n"
     ]
    },
    {
     "name": "stderr",
     "output_type": "stream",
     "text": [
      "/opt/anaconda3/envs/ai-tech2/lib/python3.9/site-packages/pytorch_lightning/core/saving.py:224: UnderReviewWarning: The feature VAE is currently marked under review. The compatibility with other Lightning projects is not guaranteed and API may change at any time. The API and functionality may change without warning in future releases. More details: https://lightning-bolts.readthedocs.io/en/latest/stability.html\n",
      "  obj = cls(**_cls_kwargs)\n"
     ]
    }
   ],
   "source": [
    "from pl_bolts.models.autoencoders import VAE\n",
    "\n",
    "vae = VAE(input_height=32)\n",
    "print(VAE.pretrained_weights_available())\n",
    "vae = vae.from_pretrained(\"cifar10-resnet18\")\n",
    "\n",
    "vae.freeze()"
   ]
  },
  {
   "cell_type": "markdown",
   "metadata": {},
   "source": [
    "### Exercise:\n",
    "Similarly as in autoencoder case, implement a function that extract features from the autoencoder model. Then follow and extract the features."
   ]
  },
  {
   "cell_type": "code",
   "execution_count": null,
   "metadata": {},
   "outputs": [],
   "source": [
    "class MyVAE(VAE):\n",
    "    def _forward_features(self, x: torch.Tensor) -> torch.Tensor:\n",
    "        raise NotImplementedError\n",
    "\n",
    "    def extract_features(self, dataloader):\n",
    "        features = []\n",
    "        labels = []\n",
    "        for batch in tqdm.tqdm(dataloader, total=len(dataloader)):\n",
    "            x, y = batch\n",
    "            with torch.no_grad():\n",
    "                batch_feats = self._forward_features(x.to(self.device)).cpu()\n",
    "            features.append(batch_feats)\n",
    "            labels.append(y)\n",
    "        features = torch.vstack(features)\n",
    "        labels = torch.hstack(labels)\n",
    "        return features, labels"
   ]
  },
  {
   "cell_type": "code",
   "execution_count": null,
   "metadata": {},
   "outputs": [],
   "source": [
    "model_vae = MyVAE(input_height=32)\n",
    "print(VAE.pretrained_weights_available())\n",
    "model_vae = model_vae.from_pretrained(\"cifar10-resnet18\")\n",
    "model_vae = model_vae.to(device)\n",
    "\n",
    "model_vae.freeze()"
   ]
  },
  {
   "cell_type": "code",
   "execution_count": null,
   "metadata": {},
   "outputs": [],
   "source": [
    "train_vae_features, train_vae_labels = model_vae.extract_features(\n",
    "    dataloader=dm_ae.train_dataloader()\n",
    ")\n",
    "\n",
    "test_vae_features, test_vae_labels = model_vae.extract_features(\n",
    "    dataloader=dm_ae.test_dataloader()\n",
    ")"
   ]
  },
  {
   "cell_type": "markdown",
   "metadata": {},
   "source": [
    "### UMAP\n",
    "\n",
    "Let's now see UMAP projections"
   ]
  },
  {
   "cell_type": "code",
   "execution_count": null,
   "metadata": {},
   "outputs": [],
   "source": [
    "import umap\n",
    "\n",
    "vae_mapper = umap.UMAP().fit(train_vae_features)\n",
    "projected_vae_features = vae_mapper.transform(test_vae_features)"
   ]
  },
  {
   "cell_type": "code",
   "execution_count": null,
   "metadata": {},
   "outputs": [],
   "source": [
    "sns.scatterplot(\n",
    "    x=projected_vae_features[:, 0],\n",
    "    y=projected_vae_features[:, 1],\n",
    "    hue=test_vae_labels,\n",
    "    palette=\"deep\",\n",
    ")"
   ]
  },
  {
   "cell_type": "markdown",
   "metadata": {},
   "source": [
    "## Discriminative performance \n",
    "\n",
    "Let's now check discriminative performance of our variatipnal autoencoder to see whether there is correlation between OOD detection ability and discriminative power of a representation. Let's also see whether it produces better representations in comparison to regular autoencoder."
   ]
  },
  {
   "cell_type": "markdown",
   "metadata": {},
   "source": [
    "### Exercise \n",
    "Implement VAEClassifier in PyTorch Lightning to train a simple classifier with representation from autoencoder latent space.\n",
    "\n",
    "We will use BaseClassifier class so we only need to implement `__init__` and `forward` methods.\n",
    "\n",
    "Then follow and fit and test the classifier."
   ]
  },
  {
   "cell_type": "code",
   "execution_count": 19,
   "metadata": {},
   "outputs": [],
   "source": [
    "from src.model.base_classifier import BaseClassifier\n",
    "\n",
    "\n",
    "class VAEClassifier(BaseClassifier):\n",
    "    def __init__(self, model: VAE, lr: float = 0.05, batch_size: int = 256):\n",
    "        super().__init__()\n",
    "        self.save_hyperparameters(ignore=[\"model\"])\n",
    "\n",
    "        self.model = model\n",
    "\n",
    "        # the variational autoencoder outputs a 256-dim representation and CIFAR-10 has 10 classes\n",
    "        self.classifier = nn.Linear(256, 10)\n",
    "\n",
    "    def forward(self, x: torch.Tensor) -> torch.Tensor:\n",
    "        raise NotImplementedError"
   ]
  },
  {
   "cell_type": "code",
   "execution_count": 22,
   "metadata": {},
   "outputs": [
    {
     "name": "stderr",
     "output_type": "stream",
     "text": [
      "GPU available: False, used: False\n",
      "TPU available: False, using: 0 TPU cores\n",
      "IPU available: False, using: 0 IPUs\n",
      "HPU available: False, using: 0 HPUs\n"
     ]
    },
    {
     "name": "stdout",
     "output_type": "stream",
     "text": [
      "Files already downloaded and verified\n",
      "Files already downloaded and verified\n"
     ]
    },
    {
     "name": "stderr",
     "output_type": "stream",
     "text": [
      "\n",
      "  | Name       | Type   | Params\n",
      "--------------------------------------\n",
      "0 | model      | VAE    | 20.1 M\n",
      "1 | classifier | Linear | 2.6 K \n",
      "--------------------------------------\n",
      "2.6 K     Trainable params\n",
      "20.1 M    Non-trainable params\n",
      "20.1 M    Total params\n",
      "80.239    Total estimated model params size (MB)\n"
     ]
    },
    {
     "data": {
      "application/vnd.jupyter.widget-view+json": {
       "model_id": "ce40c8b2d33346ca8af888ee61616941",
       "version_major": 2,
       "version_minor": 0
      },
      "text/plain": [
       "Sanity Checking: 0it [00:00, ?it/s]"
      ]
     },
     "metadata": {},
     "output_type": "display_data"
    },
    {
     "name": "stderr",
     "output_type": "stream",
     "text": [
      "/opt/anaconda3/envs/ai-tech2/lib/python3.9/site-packages/pytorch_lightning/trainer/call.py:48: UserWarning: Detected KeyboardInterrupt, attempting graceful shutdown...\n",
      "  rank_zero_warn(\"Detected KeyboardInterrupt, attempting graceful shutdown...\")\n"
     ]
    }
   ],
   "source": [
    "vae_clf = VAEClassifier(model=model_vae, lr=1e-2)\n",
    "\n",
    "trainer = Trainer(\n",
    "    max_epochs=5,\n",
    "    accelerator=\"auto\",\n",
    "    devices=1,\n",
    ")\n",
    "\n",
    "trainer.fit(vae_clf, dm_ae)\n",
    "trainer.test(vae_clf, dm_ae)\n"
   ]
  },
  {
   "cell_type": "markdown",
   "metadata": {},
   "source": []
  },
  {
   "cell_type": "markdown",
   "metadata": {},
   "source": [
    "## Contrastive"
   ]
  },
  {
   "cell_type": "markdown",
   "metadata": {},
   "source": [
    "SimCLR (Chen et al. in 2020) is a self-supervised learning method for computer vision. It maximizes agreement between augmented views of the same image and minimizes agreement between views of different images. It uses data augmentation, an encoder network, projection heads, and a contrastive loss (InfoNCE) to learn meaningful representations from unlabeled data.\n",
    "\n",
    "<img src=\"https://www.researchgate.net/publication/354065806/figure/fig1/AS:1059821163929600@1629692464234/Figure-from-6-A-simple-framework-for-contrastive-learning-of-visual-representations.ppm\"  width=\"25%\">\n",
    "\n",
    "Reference: Chen, Ting, et al. \"A simple framework for contrastive learning of visual representations.\" International conference on machine learning. PMLR, 2020."
   ]
  },
  {
   "cell_type": "code",
   "execution_count": 45,
   "metadata": {},
   "outputs": [],
   "source": [
    "from pl_bolts.models.self_supervised.simclr.transforms import (\n",
    "    SimCLREvalDataTransform,\n",
    "    SimCLRTrainDataTransform,\n",
    ")\n",
    "\n",
    "dm_simclr = CIFAR10DataModule(\n",
    "    data_dir=DATASET_PATH,\n",
    "    batch_size=256,\n",
    "    num_workers=0,\n",
    "    train_transforms=SimCLRTrainDataTransform(input_height=32),\n",
    "    val_transforms=SimCLREvalDataTransform(input_height=32),\n",
    "    test_transforms=SimCLREvalDataTransform(input_height=32),\n",
    ")\n",
    "\n",
    "dm_simclr.setup()"
   ]
  },
  {
   "cell_type": "code",
   "execution_count": 119,
   "metadata": {
    "collapsed": false,
    "jupyter": {
     "outputs_hidden": false
    }
   },
   "outputs": [
    {
     "name": "stderr",
     "output_type": "stream",
     "text": [
      "/opt/anaconda3/envs/ai-tech2/lib/python3.9/site-packages/pytorch_lightning/core/saving.py:224: UnderReviewWarning: The feature SimCLR is currently marked under review. The compatibility with other Lightning projects is not guaranteed and API may change at any time. The API and functionality may change without warning in future releases. More details: https://lightning-bolts.readthedocs.io/en/latest/stability.html\n",
      "  obj = cls(**_cls_kwargs)\n",
      "/opt/anaconda3/envs/ai-tech2/lib/python3.9/site-packages/pl_bolts/models/self_supervised/simclr/simclr_module.py:138: UnderReviewWarning: The feature resnet50 is currently marked under review. The compatibility with other Lightning projects is not guaranteed and API may change at any time. The API and functionality may change without warning in future releases. More details: https://lightning-bolts.readthedocs.io/en/latest/stability.html\n",
      "  return backbone(first_conv=self.first_conv, maxpool1=self.maxpool1, return_all_feature_maps=False)\n",
      "/opt/anaconda3/envs/ai-tech2/lib/python3.9/site-packages/pl_bolts/models/self_supervised/resnets.py:321: UnderReviewWarning: The feature _resnet is currently marked under review. The compatibility with other Lightning projects is not guaranteed and API may change at any time. The API and functionality may change without warning in future releases. More details: https://lightning-bolts.readthedocs.io/en/latest/stability.html\n",
      "  return _resnet(\"resnet50\", Bottleneck, [3, 4, 6, 3], pretrained, progress, **kwargs)\n",
      "/opt/anaconda3/envs/ai-tech2/lib/python3.9/site-packages/pl_bolts/models/self_supervised/resnets.py:281: UnderReviewWarning: The feature ResNet is currently marked under review. The compatibility with other Lightning projects is not guaranteed and API may change at any time. The API and functionality may change without warning in future releases. More details: https://lightning-bolts.readthedocs.io/en/latest/stability.html\n",
      "  model = ResNet(block, layers, **kwargs)\n",
      "/opt/anaconda3/envs/ai-tech2/lib/python3.9/site-packages/pl_bolts/models/self_supervised/resnets.py:223: UnderReviewWarning: The feature conv1x1 is currently marked under review. The compatibility with other Lightning projects is not guaranteed and API may change at any time. The API and functionality may change without warning in future releases. More details: https://lightning-bolts.readthedocs.io/en/latest/stability.html\n",
      "  conv1x1(self.inplanes, planes * block.expansion, stride),\n",
      "/opt/anaconda3/envs/ai-tech2/lib/python3.9/site-packages/pl_bolts/models/self_supervised/resnets.py:229: UnderReviewWarning: The feature Bottleneck is currently marked under review. The compatibility with other Lightning projects is not guaranteed and API may change at any time. The API and functionality may change without warning in future releases. More details: https://lightning-bolts.readthedocs.io/en/latest/stability.html\n",
      "  block(\n",
      "/opt/anaconda3/envs/ai-tech2/lib/python3.9/site-packages/pl_bolts/models/self_supervised/resnets.py:110: UnderReviewWarning: The feature conv3x3 is currently marked under review. The compatibility with other Lightning projects is not guaranteed and API may change at any time. The API and functionality may change without warning in future releases. More details: https://lightning-bolts.readthedocs.io/en/latest/stability.html\n",
      "  self.conv2 = conv3x3(width, width, stride, groups, dilation)\n",
      "/opt/anaconda3/envs/ai-tech2/lib/python3.9/site-packages/pl_bolts/models/self_supervised/simclr/simclr_module.py:126: UnderReviewWarning: The feature Projection is currently marked under review. The compatibility with other Lightning projects is not guaranteed and API may change at any time. The API and functionality may change without warning in future releases. More details: https://lightning-bolts.readthedocs.io/en/latest/stability.html\n",
      "  self.projection = Projection(input_dim=self.hidden_mlp, hidden_dim=self.hidden_mlp, output_dim=self.feat_dim)\n",
      "/opt/anaconda3/envs/ai-tech2/lib/python3.9/site-packages/pytorch_lightning/core/saving.py:245: UserWarning: Found keys that are not in the model state dict but in the checkpoint: ['non_linear_evaluator.block_forward.2.weight', 'non_linear_evaluator.block_forward.2.bias']\n",
      "  rank_zero_warn(\n"
     ]
    }
   ],
   "source": [
    "from pl_bolts.models.self_supervised import SimCLR\n",
    "\n",
    "weight_path = \"https://pl-bolts-weights.s3.us-east-2.amazonaws.com/simclr/simclr-cifar10-sgd/simclr-cifar10-sgd.ckpt\"\n",
    "simclr = SimCLR.load_from_checkpoint(weight_path, strict=False)\n",
    "\n",
    "simclr.freeze()"
   ]
  },
  {
   "cell_type": "markdown",
   "metadata": {},
   "source": [
    "Let's extract features"
   ]
  },
  {
   "cell_type": "code",
   "execution_count": 120,
   "metadata": {},
   "outputs": [],
   "source": [
    "class MySimCLR(SimCLR):\n",
    "    device = (\n",
    "        torch.device(\"cuda:0\") if torch.cuda.is_available() else torch.device(\"cpu\")\n",
    "    )\n",
    "\n",
    "    def _forward_features(self, x: torch.Tensor) -> torch.Tensor:\n",
    "        return self(x)\n",
    "\n",
    "    def extract_features(\n",
    "        self, dataloader: DataLoader\n",
    "    ) -> tuple[torch.Tensor, torch.Tensor]:\n",
    "        features = []\n",
    "        labels = []\n",
    "        for batch in tqdm.tqdm(dataloader, total=len(dataloader)):\n",
    "            (x1, x2, x3), y = batch\n",
    "            with torch.no_grad():\n",
    "                batch_feats = self._forward_features(x3.to(self.device)).cpu()\n",
    "            features.append(batch_feats)\n",
    "            labels.append(y)\n",
    "        features = torch.vstack(features)\n",
    "        labels = torch.hstack(labels)\n",
    "        return features, labels"
   ]
  },
  {
   "cell_type": "code",
   "execution_count": 121,
   "metadata": {},
   "outputs": [],
   "source": [
    "model_simclr = MySimCLR.load_from_checkpoint(weight_path, strict=False)\n",
    "model_simclr = model_simclr.to(device)\n",
    "\n",
    "model_simclr.freeze()"
   ]
  },
  {
   "cell_type": "code",
   "execution_count": 118,
   "metadata": {},
   "outputs": [
    {
     "name": "stderr",
     "output_type": "stream",
     "text": [
      "  1%|          | 1/157 [00:10<27:22, 10.53s/it]\n"
     ]
    },
    {
     "ename": "KeyboardInterrupt",
     "evalue": "",
     "output_type": "error",
     "traceback": [
      "\u001B[0;31m---------------------------------------------------------------------------\u001B[0m",
      "\u001B[0;31mKeyboardInterrupt\u001B[0m                         Traceback (most recent call last)",
      "Cell \u001B[0;32mIn[118], line 1\u001B[0m\n\u001B[0;32m----> 1\u001B[0m train_simclr_features, train_simclr_labels \u001B[39m=\u001B[39m model_simclr\u001B[39m.\u001B[39;49mextract_features(\n\u001B[1;32m      2\u001B[0m     dataloader\u001B[39m=\u001B[39;49mdm_simclr\u001B[39m.\u001B[39;49mtrain_dataloader()\n\u001B[1;32m      3\u001B[0m )\n\u001B[1;32m      4\u001B[0m test_simclr_features, test_simclr_labels \u001B[39m=\u001B[39m model_simclr\u001B[39m.\u001B[39mextract_features(\n\u001B[1;32m      5\u001B[0m     dataloader\u001B[39m=\u001B[39mdm_simclr\u001B[39m.\u001B[39mtest_dataloader()\n\u001B[1;32m      6\u001B[0m )\n",
      "Cell \u001B[0;32mIn[116], line 11\u001B[0m, in \u001B[0;36mMySimCLR.extract_features\u001B[0;34m(self, dataloader)\u001B[0m\n\u001B[1;32m      9\u001B[0m (x1, x2, x3), y \u001B[39m=\u001B[39m batch\n\u001B[1;32m     10\u001B[0m \u001B[39mwith\u001B[39;00m torch\u001B[39m.\u001B[39mno_grad():\n\u001B[0;32m---> 11\u001B[0m     batch_feats \u001B[39m=\u001B[39m \u001B[39mself\u001B[39;49m\u001B[39m.\u001B[39;49m_forward_features(x3\u001B[39m.\u001B[39;49mto(device))\n\u001B[1;32m     12\u001B[0m features\u001B[39m.\u001B[39mappend(batch_feats)\n\u001B[1;32m     13\u001B[0m labels\u001B[39m.\u001B[39mappend(y)\n",
      "Cell \u001B[0;32mIn[116], line 3\u001B[0m, in \u001B[0;36mMySimCLR._forward_features\u001B[0;34m(self, x)\u001B[0m\n\u001B[1;32m      2\u001B[0m \u001B[39mdef\u001B[39;00m \u001B[39m_forward_features\u001B[39m(\u001B[39mself\u001B[39m, x: torch\u001B[39m.\u001B[39mTensor) \u001B[39m-\u001B[39m\u001B[39m>\u001B[39m torch\u001B[39m.\u001B[39mTensor:\n\u001B[0;32m----> 3\u001B[0m     \u001B[39mreturn\u001B[39;00m \u001B[39mself\u001B[39;49m(x)\n",
      "File \u001B[0;32m/opt/anaconda3/envs/ai-tech2/lib/python3.9/site-packages/torch/nn/modules/module.py:1194\u001B[0m, in \u001B[0;36mModule._call_impl\u001B[0;34m(self, *input, **kwargs)\u001B[0m\n\u001B[1;32m   1190\u001B[0m \u001B[39m# If we don't have any hooks, we want to skip the rest of the logic in\u001B[39;00m\n\u001B[1;32m   1191\u001B[0m \u001B[39m# this function, and just call forward.\u001B[39;00m\n\u001B[1;32m   1192\u001B[0m \u001B[39mif\u001B[39;00m \u001B[39mnot\u001B[39;00m (\u001B[39mself\u001B[39m\u001B[39m.\u001B[39m_backward_hooks \u001B[39mor\u001B[39;00m \u001B[39mself\u001B[39m\u001B[39m.\u001B[39m_forward_hooks \u001B[39mor\u001B[39;00m \u001B[39mself\u001B[39m\u001B[39m.\u001B[39m_forward_pre_hooks \u001B[39mor\u001B[39;00m _global_backward_hooks\n\u001B[1;32m   1193\u001B[0m         \u001B[39mor\u001B[39;00m _global_forward_hooks \u001B[39mor\u001B[39;00m _global_forward_pre_hooks):\n\u001B[0;32m-> 1194\u001B[0m     \u001B[39mreturn\u001B[39;00m forward_call(\u001B[39m*\u001B[39;49m\u001B[39minput\u001B[39;49m, \u001B[39m*\u001B[39;49m\u001B[39m*\u001B[39;49mkwargs)\n\u001B[1;32m   1195\u001B[0m \u001B[39m# Do not call functions when jit is used\u001B[39;00m\n\u001B[1;32m   1196\u001B[0m full_backward_hooks, non_full_backward_hooks \u001B[39m=\u001B[39m [], []\n",
      "File \u001B[0;32m/opt/anaconda3/envs/ai-tech2/lib/python3.9/site-packages/pl_bolts/models/self_supervised/simclr/simclr_module.py:142\u001B[0m, in \u001B[0;36mSimCLR.forward\u001B[0;34m(self, x)\u001B[0m\n\u001B[1;32m    140\u001B[0m \u001B[39mdef\u001B[39;00m \u001B[39mforward\u001B[39m(\u001B[39mself\u001B[39m, x):\n\u001B[1;32m    141\u001B[0m     \u001B[39m# bolts resnet returns a list\u001B[39;00m\n\u001B[0;32m--> 142\u001B[0m     \u001B[39mreturn\u001B[39;00m \u001B[39mself\u001B[39;49m\u001B[39m.\u001B[39;49mencoder(x)[\u001B[39m-\u001B[39m\u001B[39m1\u001B[39m]\n",
      "File \u001B[0;32m/opt/anaconda3/envs/ai-tech2/lib/python3.9/site-packages/torch/nn/modules/module.py:1194\u001B[0m, in \u001B[0;36mModule._call_impl\u001B[0;34m(self, *input, **kwargs)\u001B[0m\n\u001B[1;32m   1190\u001B[0m \u001B[39m# If we don't have any hooks, we want to skip the rest of the logic in\u001B[39;00m\n\u001B[1;32m   1191\u001B[0m \u001B[39m# this function, and just call forward.\u001B[39;00m\n\u001B[1;32m   1192\u001B[0m \u001B[39mif\u001B[39;00m \u001B[39mnot\u001B[39;00m (\u001B[39mself\u001B[39m\u001B[39m.\u001B[39m_backward_hooks \u001B[39mor\u001B[39;00m \u001B[39mself\u001B[39m\u001B[39m.\u001B[39m_forward_hooks \u001B[39mor\u001B[39;00m \u001B[39mself\u001B[39m\u001B[39m.\u001B[39m_forward_pre_hooks \u001B[39mor\u001B[39;00m _global_backward_hooks\n\u001B[1;32m   1193\u001B[0m         \u001B[39mor\u001B[39;00m _global_forward_hooks \u001B[39mor\u001B[39;00m _global_forward_pre_hooks):\n\u001B[0;32m-> 1194\u001B[0m     \u001B[39mreturn\u001B[39;00m forward_call(\u001B[39m*\u001B[39;49m\u001B[39minput\u001B[39;49m, \u001B[39m*\u001B[39;49m\u001B[39m*\u001B[39;49mkwargs)\n\u001B[1;32m   1195\u001B[0m \u001B[39m# Do not call functions when jit is used\u001B[39;00m\n\u001B[1;32m   1196\u001B[0m full_backward_hooks, non_full_backward_hooks \u001B[39m=\u001B[39m [], []\n",
      "File \u001B[0;32m/opt/anaconda3/envs/ai-tech2/lib/python3.9/site-packages/pl_bolts/models/self_supervised/resnets.py:268\u001B[0m, in \u001B[0;36mResNet.forward\u001B[0;34m(self, x)\u001B[0m\n\u001B[1;32m    265\u001B[0m     x4 \u001B[39m=\u001B[39m \u001B[39mself\u001B[39m\u001B[39m.\u001B[39mlayer4(x3)\n\u001B[1;32m    267\u001B[0m     \u001B[39mreturn\u001B[39;00m [x0, x1, x2, x3, x4]\n\u001B[0;32m--> 268\u001B[0m x0 \u001B[39m=\u001B[39m \u001B[39mself\u001B[39;49m\u001B[39m.\u001B[39;49mlayer1(x0)\n\u001B[1;32m    269\u001B[0m x0 \u001B[39m=\u001B[39m \u001B[39mself\u001B[39m\u001B[39m.\u001B[39mlayer2(x0)\n\u001B[1;32m    270\u001B[0m x0 \u001B[39m=\u001B[39m \u001B[39mself\u001B[39m\u001B[39m.\u001B[39mlayer3(x0)\n",
      "File \u001B[0;32m/opt/anaconda3/envs/ai-tech2/lib/python3.9/site-packages/torch/nn/modules/module.py:1194\u001B[0m, in \u001B[0;36mModule._call_impl\u001B[0;34m(self, *input, **kwargs)\u001B[0m\n\u001B[1;32m   1190\u001B[0m \u001B[39m# If we don't have any hooks, we want to skip the rest of the logic in\u001B[39;00m\n\u001B[1;32m   1191\u001B[0m \u001B[39m# this function, and just call forward.\u001B[39;00m\n\u001B[1;32m   1192\u001B[0m \u001B[39mif\u001B[39;00m \u001B[39mnot\u001B[39;00m (\u001B[39mself\u001B[39m\u001B[39m.\u001B[39m_backward_hooks \u001B[39mor\u001B[39;00m \u001B[39mself\u001B[39m\u001B[39m.\u001B[39m_forward_hooks \u001B[39mor\u001B[39;00m \u001B[39mself\u001B[39m\u001B[39m.\u001B[39m_forward_pre_hooks \u001B[39mor\u001B[39;00m _global_backward_hooks\n\u001B[1;32m   1193\u001B[0m         \u001B[39mor\u001B[39;00m _global_forward_hooks \u001B[39mor\u001B[39;00m _global_forward_pre_hooks):\n\u001B[0;32m-> 1194\u001B[0m     \u001B[39mreturn\u001B[39;00m forward_call(\u001B[39m*\u001B[39;49m\u001B[39minput\u001B[39;49m, \u001B[39m*\u001B[39;49m\u001B[39m*\u001B[39;49mkwargs)\n\u001B[1;32m   1195\u001B[0m \u001B[39m# Do not call functions when jit is used\u001B[39;00m\n\u001B[1;32m   1196\u001B[0m full_backward_hooks, non_full_backward_hooks \u001B[39m=\u001B[39m [], []\n",
      "File \u001B[0;32m/opt/anaconda3/envs/ai-tech2/lib/python3.9/site-packages/torch/nn/modules/container.py:204\u001B[0m, in \u001B[0;36mSequential.forward\u001B[0;34m(self, input)\u001B[0m\n\u001B[1;32m    202\u001B[0m \u001B[39mdef\u001B[39;00m \u001B[39mforward\u001B[39m(\u001B[39mself\u001B[39m, \u001B[39minput\u001B[39m):\n\u001B[1;32m    203\u001B[0m     \u001B[39mfor\u001B[39;00m module \u001B[39min\u001B[39;00m \u001B[39mself\u001B[39m:\n\u001B[0;32m--> 204\u001B[0m         \u001B[39minput\u001B[39m \u001B[39m=\u001B[39m module(\u001B[39minput\u001B[39;49m)\n\u001B[1;32m    205\u001B[0m     \u001B[39mreturn\u001B[39;00m \u001B[39minput\u001B[39m\n",
      "File \u001B[0;32m/opt/anaconda3/envs/ai-tech2/lib/python3.9/site-packages/torch/nn/modules/module.py:1194\u001B[0m, in \u001B[0;36mModule._call_impl\u001B[0;34m(self, *input, **kwargs)\u001B[0m\n\u001B[1;32m   1190\u001B[0m \u001B[39m# If we don't have any hooks, we want to skip the rest of the logic in\u001B[39;00m\n\u001B[1;32m   1191\u001B[0m \u001B[39m# this function, and just call forward.\u001B[39;00m\n\u001B[1;32m   1192\u001B[0m \u001B[39mif\u001B[39;00m \u001B[39mnot\u001B[39;00m (\u001B[39mself\u001B[39m\u001B[39m.\u001B[39m_backward_hooks \u001B[39mor\u001B[39;00m \u001B[39mself\u001B[39m\u001B[39m.\u001B[39m_forward_hooks \u001B[39mor\u001B[39;00m \u001B[39mself\u001B[39m\u001B[39m.\u001B[39m_forward_pre_hooks \u001B[39mor\u001B[39;00m _global_backward_hooks\n\u001B[1;32m   1193\u001B[0m         \u001B[39mor\u001B[39;00m _global_forward_hooks \u001B[39mor\u001B[39;00m _global_forward_pre_hooks):\n\u001B[0;32m-> 1194\u001B[0m     \u001B[39mreturn\u001B[39;00m forward_call(\u001B[39m*\u001B[39;49m\u001B[39minput\u001B[39;49m, \u001B[39m*\u001B[39;49m\u001B[39m*\u001B[39;49mkwargs)\n\u001B[1;32m   1195\u001B[0m \u001B[39m# Do not call functions when jit is used\u001B[39;00m\n\u001B[1;32m   1196\u001B[0m full_backward_hooks, non_full_backward_hooks \u001B[39m=\u001B[39m [], []\n",
      "File \u001B[0;32m/opt/anaconda3/envs/ai-tech2/lib/python3.9/site-packages/pl_bolts/models/self_supervised/resnets.py:129\u001B[0m, in \u001B[0;36mBottleneck.forward\u001B[0;34m(self, x)\u001B[0m\n\u001B[1;32m    126\u001B[0m out \u001B[39m=\u001B[39m \u001B[39mself\u001B[39m\u001B[39m.\u001B[39mbn2(out)\n\u001B[1;32m    127\u001B[0m out \u001B[39m=\u001B[39m \u001B[39mself\u001B[39m\u001B[39m.\u001B[39mrelu(out)\n\u001B[0;32m--> 129\u001B[0m out \u001B[39m=\u001B[39m \u001B[39mself\u001B[39;49m\u001B[39m.\u001B[39;49mconv3(out)\n\u001B[1;32m    130\u001B[0m out \u001B[39m=\u001B[39m \u001B[39mself\u001B[39m\u001B[39m.\u001B[39mbn3(out)\n\u001B[1;32m    132\u001B[0m \u001B[39mif\u001B[39;00m \u001B[39mself\u001B[39m\u001B[39m.\u001B[39mdownsample \u001B[39mis\u001B[39;00m \u001B[39mnot\u001B[39;00m \u001B[39mNone\u001B[39;00m:\n",
      "File \u001B[0;32m/opt/anaconda3/envs/ai-tech2/lib/python3.9/site-packages/torch/nn/modules/module.py:1194\u001B[0m, in \u001B[0;36mModule._call_impl\u001B[0;34m(self, *input, **kwargs)\u001B[0m\n\u001B[1;32m   1190\u001B[0m \u001B[39m# If we don't have any hooks, we want to skip the rest of the logic in\u001B[39;00m\n\u001B[1;32m   1191\u001B[0m \u001B[39m# this function, and just call forward.\u001B[39;00m\n\u001B[1;32m   1192\u001B[0m \u001B[39mif\u001B[39;00m \u001B[39mnot\u001B[39;00m (\u001B[39mself\u001B[39m\u001B[39m.\u001B[39m_backward_hooks \u001B[39mor\u001B[39;00m \u001B[39mself\u001B[39m\u001B[39m.\u001B[39m_forward_hooks \u001B[39mor\u001B[39;00m \u001B[39mself\u001B[39m\u001B[39m.\u001B[39m_forward_pre_hooks \u001B[39mor\u001B[39;00m _global_backward_hooks\n\u001B[1;32m   1193\u001B[0m         \u001B[39mor\u001B[39;00m _global_forward_hooks \u001B[39mor\u001B[39;00m _global_forward_pre_hooks):\n\u001B[0;32m-> 1194\u001B[0m     \u001B[39mreturn\u001B[39;00m forward_call(\u001B[39m*\u001B[39;49m\u001B[39minput\u001B[39;49m, \u001B[39m*\u001B[39;49m\u001B[39m*\u001B[39;49mkwargs)\n\u001B[1;32m   1195\u001B[0m \u001B[39m# Do not call functions when jit is used\u001B[39;00m\n\u001B[1;32m   1196\u001B[0m full_backward_hooks, non_full_backward_hooks \u001B[39m=\u001B[39m [], []\n",
      "File \u001B[0;32m/opt/anaconda3/envs/ai-tech2/lib/python3.9/site-packages/torch/nn/modules/conv.py:463\u001B[0m, in \u001B[0;36mConv2d.forward\u001B[0;34m(self, input)\u001B[0m\n\u001B[1;32m    462\u001B[0m \u001B[39mdef\u001B[39;00m \u001B[39mforward\u001B[39m(\u001B[39mself\u001B[39m, \u001B[39minput\u001B[39m: Tensor) \u001B[39m-\u001B[39m\u001B[39m>\u001B[39m Tensor:\n\u001B[0;32m--> 463\u001B[0m     \u001B[39mreturn\u001B[39;00m \u001B[39mself\u001B[39;49m\u001B[39m.\u001B[39;49m_conv_forward(\u001B[39minput\u001B[39;49m, \u001B[39mself\u001B[39;49m\u001B[39m.\u001B[39;49mweight, \u001B[39mself\u001B[39;49m\u001B[39m.\u001B[39;49mbias)\n",
      "File \u001B[0;32m/opt/anaconda3/envs/ai-tech2/lib/python3.9/site-packages/torch/nn/modules/conv.py:459\u001B[0m, in \u001B[0;36mConv2d._conv_forward\u001B[0;34m(self, input, weight, bias)\u001B[0m\n\u001B[1;32m    455\u001B[0m \u001B[39mif\u001B[39;00m \u001B[39mself\u001B[39m\u001B[39m.\u001B[39mpadding_mode \u001B[39m!=\u001B[39m \u001B[39m'\u001B[39m\u001B[39mzeros\u001B[39m\u001B[39m'\u001B[39m:\n\u001B[1;32m    456\u001B[0m     \u001B[39mreturn\u001B[39;00m F\u001B[39m.\u001B[39mconv2d(F\u001B[39m.\u001B[39mpad(\u001B[39minput\u001B[39m, \u001B[39mself\u001B[39m\u001B[39m.\u001B[39m_reversed_padding_repeated_twice, mode\u001B[39m=\u001B[39m\u001B[39mself\u001B[39m\u001B[39m.\u001B[39mpadding_mode),\n\u001B[1;32m    457\u001B[0m                     weight, bias, \u001B[39mself\u001B[39m\u001B[39m.\u001B[39mstride,\n\u001B[1;32m    458\u001B[0m                     _pair(\u001B[39m0\u001B[39m), \u001B[39mself\u001B[39m\u001B[39m.\u001B[39mdilation, \u001B[39mself\u001B[39m\u001B[39m.\u001B[39mgroups)\n\u001B[0;32m--> 459\u001B[0m \u001B[39mreturn\u001B[39;00m F\u001B[39m.\u001B[39;49mconv2d(\u001B[39minput\u001B[39;49m, weight, bias, \u001B[39mself\u001B[39;49m\u001B[39m.\u001B[39;49mstride,\n\u001B[1;32m    460\u001B[0m                 \u001B[39mself\u001B[39;49m\u001B[39m.\u001B[39;49mpadding, \u001B[39mself\u001B[39;49m\u001B[39m.\u001B[39;49mdilation, \u001B[39mself\u001B[39;49m\u001B[39m.\u001B[39;49mgroups)\n",
      "\u001B[0;31mKeyboardInterrupt\u001B[0m: "
     ]
    }
   ],
   "source": [
    "train_simclr_features, train_simclr_labels = model_simclr.extract_features(\n",
    "    dataloader=dm_simclr.train_dataloader()\n",
    ")\n",
    "test_simclr_features, test_simclr_labels = model_simclr.extract_features(\n",
    "    dataloader=dm_simclr.test_dataloader()\n",
    ")"
   ]
  },
  {
   "attachments": {},
   "cell_type": "markdown",
   "metadata": {},
   "source": [
    "### UMAP\n",
    "And see how our UMAP projections look like"
   ]
  },
  {
   "cell_type": "code",
   "execution_count": null,
   "metadata": {},
   "outputs": [],
   "source": [
    "simclr_mapper = umap.UMAP().fit(train_simclr_features)\n",
    "projected_simclr_features = simclr_mapper.transform(test_simclr_features)"
   ]
  },
  {
   "cell_type": "code",
   "execution_count": 52,
   "metadata": {},
   "outputs": [
    {
     "ename": "NameError",
     "evalue": "name 'projected_simclr_features' is not defined",
     "output_type": "error",
     "traceback": [
      "\u001B[0;31m---------------------------------------------------------------------------\u001B[0m",
      "\u001B[0;31mNameError\u001B[0m                                 Traceback (most recent call last)",
      "Cell \u001B[0;32mIn[52], line 1\u001B[0m\n\u001B[0;32m----> 1\u001B[0m sns\u001B[39m.\u001B[39mscatterplot(x\u001B[39m=\u001B[39mprojected_simclr_features[:, \u001B[39m0\u001B[39m], y\u001B[39m=\u001B[39mprojected_simclr_features[:, \u001B[39m1\u001B[39m], hue\u001B[39m=\u001B[39mtest_simclr_labels, palette\u001B[39m=\u001B[39m\u001B[39m\"\u001B[39m\u001B[39mdeep\u001B[39m\u001B[39m\"\u001B[39m)\n",
      "\u001B[0;31mNameError\u001B[0m: name 'projected_simclr_features' is not defined"
     ]
    }
   ],
   "source": [
    "sns.scatterplot(\n",
    "    x=projected_simclr_features[:, 0],\n",
    "    y=projected_simclr_features[:, 1],\n",
    "    hue=test_simclr_labels,\n",
    "    palette=\"deep\",\n",
    ")"
   ]
  },
  {
   "attachments": {},
   "cell_type": "markdown",
   "metadata": {},
   "source": [
    "## Discriminative performance \n",
    "\n",
    "Let's now check discriminative performance of our model to see what performance we can get in comparison to supervised case."
   ]
  },
  {
   "cell_type": "code",
   "execution_count": 126,
   "metadata": {},
   "outputs": [
    {
     "name": "stderr",
     "output_type": "stream",
     "text": [
      "GPU available: False, used: False\n",
      "TPU available: False, using: 0 TPU cores\n",
      "IPU available: False, using: 0 IPUs\n",
      "HPU available: False, using: 0 HPUs\n"
     ]
    },
    {
     "name": "stdout",
     "output_type": "stream",
     "text": [
      "Files already downloaded and verified\n",
      "Files already downloaded and verified\n"
     ]
    },
    {
     "name": "stderr",
     "output_type": "stream",
     "text": [
      "\n",
      "  | Name       | Type     | Params\n",
      "----------------------------------------\n",
      "0 | model      | MySimCLR | 30.0 M\n",
      "1 | classifier | Linear   | 20.5 K\n",
      "----------------------------------------\n",
      "20.5 K    Trainable params\n",
      "30.0 M    Non-trainable params\n",
      "30.0 M    Total params\n",
      "120.130   Total estimated model params size (MB)\n"
     ]
    },
    {
     "data": {
      "application/vnd.jupyter.widget-view+json": {
       "model_id": "22f8b7660ee4466f90453c02182dfd6d",
       "version_major": 2,
       "version_minor": 0
      },
      "text/plain": [
       "Sanity Checking: 0it [00:00, ?it/s]"
      ]
     },
     "metadata": {},
     "output_type": "display_data"
    },
    {
     "name": "stderr",
     "output_type": "stream",
     "text": [
      "/opt/anaconda3/envs/ai-tech2/lib/python3.9/site-packages/pytorch_lightning/trainer/connectors/data_connector.py:224: PossibleUserWarning: The dataloader, val_dataloader 0, does not have many workers which may be a bottleneck. Consider increasing the value of the `num_workers` argument` (try 8 which is the number of cpus on this machine) in the `DataLoader` init to improve performance.\n",
      "  rank_zero_warn(\n",
      "/opt/anaconda3/envs/ai-tech2/lib/python3.9/site-packages/pytorch_lightning/trainer/connectors/data_connector.py:224: PossibleUserWarning: The dataloader, train_dataloader, does not have many workers which may be a bottleneck. Consider increasing the value of the `num_workers` argument` (try 8 which is the number of cpus on this machine) in the `DataLoader` init to improve performance.\n",
      "  rank_zero_warn(\n"
     ]
    },
    {
     "data": {
      "application/vnd.jupyter.widget-view+json": {
       "model_id": "2f17533da42c46a988eb5c4add095753",
       "version_major": 2,
       "version_minor": 0
      },
      "text/plain": [
       "Training: 0it [00:00, ?it/s]"
      ]
     },
     "metadata": {},
     "output_type": "display_data"
    },
    {
     "name": "stderr",
     "output_type": "stream",
     "text": [
      "/opt/anaconda3/envs/ai-tech2/lib/python3.9/site-packages/pytorch_lightning/trainer/call.py:48: UserWarning: Detected KeyboardInterrupt, attempting graceful shutdown...\n",
      "  rank_zero_warn(\"Detected KeyboardInterrupt, attempting graceful shutdown...\")\n"
     ]
    },
    {
     "name": "stdout",
     "output_type": "stream",
     "text": [
      "Files already downloaded and verified\n",
      "Files already downloaded and verified\n"
     ]
    },
    {
     "name": "stderr",
     "output_type": "stream",
     "text": [
      "/opt/anaconda3/envs/ai-tech2/lib/python3.9/site-packages/pytorch_lightning/trainer/connectors/data_connector.py:224: PossibleUserWarning: The dataloader, test_dataloader 0, does not have many workers which may be a bottleneck. Consider increasing the value of the `num_workers` argument` (try 8 which is the number of cpus on this machine) in the `DataLoader` init to improve performance.\n",
      "  rank_zero_warn(\n"
     ]
    },
    {
     "data": {
      "application/vnd.jupyter.widget-view+json": {
       "model_id": "9d33f4f3e85344c0869b5bf496577935",
       "version_major": 2,
       "version_minor": 0
      },
      "text/plain": [
       "Testing: 0it [00:00, ?it/s]"
      ]
     },
     "metadata": {},
     "output_type": "display_data"
    },
    {
     "data": {
      "text/html": [
       "<pre style=\"white-space:pre;overflow-x:auto;line-height:normal;font-family:Menlo,'DejaVu Sans Mono',consolas,'Courier New',monospace\">┏━━━━━━━━━━━━━━━━━━━━━━━━━━━┳━━━━━━━━━━━━━━━━━━━━━━━━━━━┓\n",
       "┃<span style=\"font-weight: bold\">        Test metric        </span>┃<span style=\"font-weight: bold\">       DataLoader 0        </span>┃\n",
       "┡━━━━━━━━━━━━━━━━━━━━━━━━━━━╇━━━━━━━━━━━━━━━━━━━━━━━━━━━┩\n",
       "│<span style=\"color: #008080; text-decoration-color: #008080\">         test_acc          </span>│<span style=\"color: #800080; text-decoration-color: #800080\">    0.08309999853372574    </span>│\n",
       "│<span style=\"color: #008080; text-decoration-color: #008080\">         test_ece          </span>│<span style=\"color: #800080; text-decoration-color: #800080\">     0.261707603931427     </span>│\n",
       "│<span style=\"color: #008080; text-decoration-color: #008080\">         test_loss         </span>│<span style=\"color: #800080; text-decoration-color: #800080\">    0.06943444907665253    </span>│\n",
       "└───────────────────────────┴───────────────────────────┘\n",
       "</pre>\n"
      ],
      "text/plain": [
       "┏━━━━━━━━━━━━━━━━━━━━━━━━━━━┳━━━━━━━━━━━━━━━━━━━━━━━━━━━┓\n",
       "┃\u001B[1m \u001B[0m\u001B[1m       Test metric       \u001B[0m\u001B[1m \u001B[0m┃\u001B[1m \u001B[0m\u001B[1m      DataLoader 0       \u001B[0m\u001B[1m \u001B[0m┃\n",
       "┡━━━━━━━━━━━━━━━━━━━━━━━━━━━╇━━━━━━━━━━━━━━━━━━━━━━━━━━━┩\n",
       "│\u001B[36m \u001B[0m\u001B[36m        test_acc         \u001B[0m\u001B[36m \u001B[0m│\u001B[35m \u001B[0m\u001B[35m   0.08309999853372574   \u001B[0m\u001B[35m \u001B[0m│\n",
       "│\u001B[36m \u001B[0m\u001B[36m        test_ece         \u001B[0m\u001B[36m \u001B[0m│\u001B[35m \u001B[0m\u001B[35m    0.261707603931427    \u001B[0m\u001B[35m \u001B[0m│\n",
       "│\u001B[36m \u001B[0m\u001B[36m        test_loss        \u001B[0m\u001B[36m \u001B[0m│\u001B[35m \u001B[0m\u001B[35m   0.06943444907665253   \u001B[0m\u001B[35m \u001B[0m│\n",
       "└───────────────────────────┴───────────────────────────┘\n"
      ]
     },
     "metadata": {},
     "output_type": "display_data"
    },
    {
     "data": {
      "text/plain": [
       "[{'test_loss': 0.06943444907665253,\n",
       "  'test_acc': 0.08309999853372574,\n",
       "  'test_ece': 0.261707603931427}]"
      ]
     },
     "execution_count": 126,
     "metadata": {},
     "output_type": "execute_result"
    }
   ],
   "source": [
    "from src.model.base_classifier import SimCLRClassifier\n",
    "\n",
    "simclr_clf = SimCLRClassifier(model=model_simclr, lr=1e-3)\n",
    "\n",
    "trainer = Trainer(\n",
    "    max_epochs=3,\n",
    "    accelerator=\"auto\",\n",
    "    devices=1,\n",
    ")\n",
    "\n",
    "trainer.fit(simclr_clf, dm_simclr)\n",
    "trainer.test(simclr_clf, dm_simclr)"
   ]
  },
  {
   "cell_type": "markdown",
   "metadata": {},
   "source": [
    "# OOD detection"
   ]
  },
  {
   "cell_type": "markdown",
   "metadata": {},
   "source": [
    "We will partly utilize [pytorch-ood](https://github.com/kkirchheim/pytorch-ood) library which provides several metrics, detectors and datasets implemented in PyTorch and serves as a great entry point."
   ]
  },
  {
   "cell_type": "code",
   "execution_count": 55,
   "metadata": {},
   "outputs": [],
   "source": [
    "!pip install --quiet git+https://github.com/djaniak/pytorch-ood.git"
   ]
  },
  {
   "cell_type": "markdown",
   "metadata": {},
   "source": [
    "### Metrics\n",
    "\n",
    "Let's start from the metrics.\n",
    "\n",
    "Most common metric used in the literature is Area Under the Receiver Operating Characteristic curve (AUROC) metric, which is a threshold-independent performance evaluation.\n",
    "\n",
    "The ROC curve is a graph showing the true positive rate (tpr = tp/(tp + fn)) and the false positive rate (fpr = fp/(fp + tn)) against each other. Moreover, the AUROC can be interpreted as the prob- ability that a positive example has a greater detector score/value than a negative example (Fawcett, 2005). Consequently, a random positive example detector corresponds to a 50% AUROC, and a “perfect” classifier corresponds to 100%.\n",
    "\n",
    "\n",
    "The AUROC sidesteps the issue of threshold selection, as does the Area Under the Precision-Recall curve (AUPR) which is sometimes deemed more informative (Manning & Schutze, 1999). This is because the AUROC is not ideal when the positive class and negative class have greatly differing base rates, and the AUPR adjusts for these different positive and negative base rates. For this reason, the AUPR is our second evaluation metric. The PR curve plots the precision (tp/(tp + fp)) and recall (tp/(tp + fn)) against each other. \n",
    "\n",
    "The baseline detector has an AUPR approximately equal to the precision (Saito & Rehmsmeier, 2015), and a “perfect” classifier has an AUPR of 100%. Consequently, the base rate of the positive class greatly influences the AUPR, so for detection we must specify which class is positive. In view of this, we show the AUPRs when we treat success/normal classes as positive, and then we show the areas when we treat the error/abnormal classes as positive. We can treat the error/abnormal classes as positive by multiplying the scores by −1 and labeling them positive. \n",
    "\n",
    "Reference: Hendrycks, Dan, and Kevin Gimpel. \"A baseline for detecting misclassified and out-of-distribution examples in neural networks.\" arXiv preprint arXiv:1610.02136 (2016).\n",
    "\n",
    "Here, we will use following metrics:\n",
    "- AUROC\n",
    "- AUPR IN\n",
    "- AUPR OUT\n",
    "- FPR\\@95TPR"
   ]
  },
  {
   "cell_type": "code",
   "execution_count": 57,
   "metadata": {},
   "outputs": [],
   "source": [
    "from pytorch_ood.utils import OODMetrics\n",
    "\n",
    "metrics = OODMetrics()"
   ]
  },
  {
   "cell_type": "markdown",
   "metadata": {},
   "source": [
    "### Datasets"
   ]
  },
  {
   "attachments": {},
   "cell_type": "markdown",
   "metadata": {},
   "source": [
    "When performing out-of-distribution (OOD) detection, it is common to use different datasets as in-distribution and out-of-distribution datasets. The purpose of using other datasets as in and out datasets is to assess the model's ability to generalize and detect samples that deviate significantly from the training data distribution.\n",
    "\n",
    "Next, let us determine whether an example is in- or out-of-distribution. We use all test set examples of CIFAR10 as the in-distribution (positive) examples. For out-of-distribution (negative) examples we will use other datasets, such as MNIST, LSUN, TinyImageNet or Textures."
   ]
  },
  {
   "cell_type": "code",
   "execution_count": 59,
   "metadata": {},
   "outputs": [
    {
     "name": "stdout",
     "output_type": "stream",
     "text": [
      "Files already downloaded and verified\n",
      "Downloading https://uc2518e8cfa3175425106deb70fa.dl.dropboxusercontent.com/cd/0/inline2/B-GVyczoYUu2adUnZvCZIFVOpz8fbwc8qdINqAJrb48IlVNwWjkGVAJwVxMdTX7Qme--0t62sp_ovis-TnTubYp8y__pDfAIwgEjJ0JSJkSkIjApj6evcM5y3vHw4jk3tznD7MzvcIfHjMEklgtF1eVYytKuT7XmwKiN_cI7R7eExnzr2F5BYwdHZMVYl1GJ5RiRX31Y21Q14a3XEqa2z0328OoHQnQJOGhRaPq2AgHtJwFYs9l9rdp76bv7xM-1O72g1NFGbWCZlVNbNifgVu_U65cpPIU1ZWa_D3b_Y950VJECx5eNTw3qFXlDyzNycE2cwthms-MfU-DevYSSu8f6Y06p4BEQB1vlSwIDWiSynjPjZoS3JveNGJZMNxLiDHaUk0doRZpDkf-VWzzyoJYh-jke7QS3iJJTv3lOwGif7A/file to data/Imagenet_resize.tar.gz\n"
     ]
    },
    {
     "data": {
      "application/vnd.jupyter.widget-view+json": {
       "model_id": "48702f244ba941d48f975fcdae635db3",
       "version_major": 2,
       "version_minor": 0
      },
      "text/plain": [
       "  0%|          | 0/4550980 [00:00<?, ?it/s]"
      ]
     },
     "metadata": {},
     "output_type": "display_data"
    },
    {
     "name": "stdout",
     "output_type": "stream",
     "text": [
      "Extracting data/Imagenet_resize.tar.gz to data\n",
      "Downloading https://uc4fb33e13491febfb6d7c124620.dl.dropboxusercontent.com/cd/0/inline2/B-G-m1nWcpBu3-1U1HZng2uju6Z89MTMOZ2irKtieIu6Cd0Hkbcr8oWJG5Oum1WErV7QpJf6yh9HMVuCAgmeQr-h6JEMLtXXwx3OcIqDMiw56opuRKkeO-5IbxOUrIuR86ZxDIApSy2REO0QjIDruaG7YN0E2z9Z8kDXYo4D2pLpy_SCqunPnfSWlc8uP7tS7P2mfmMYOZvkT7AwwxHqSTKiRLMa6xInjyw4nupwaTbNgyC3c3tHt3uRHn4NMHlPo19jkLVaRLXe_oHblGgPm0oNUpypw6qLCrJSmctgTcu9MTxD81BC69NkWnnSmwC3Auv3aSU34TPC439x4xaL5fqDAWNdCnz7kYsrM7-44ngBYRhuXzUxa_7PMmNw8v9urwj7ICup_RozBPEa3ZqX8UGtR94V6ttp4roPakRExBzX4g/file to data/LSUN_resize.tar.gz\n"
     ]
    },
    {
     "data": {
      "application/vnd.jupyter.widget-view+json": {
       "model_id": "123c7c119e854bbbbdee8e0bf2f33730",
       "version_major": 2,
       "version_minor": 0
      },
      "text/plain": [
       "  0%|          | 0/4688973 [00:00<?, ?it/s]"
      ]
     },
     "metadata": {},
     "output_type": "display_data"
    },
    {
     "name": "stdout",
     "output_type": "stream",
     "text": [
      "Extracting data/LSUN_resize.tar.gz to data\n"
     ]
    }
   ],
   "source": [
    "from torchvision.datasets import CIFAR10\n",
    "import torchvision.transforms as tvt\n",
    "from pytorch_ood.utils import ToRGB, ToUnknown\n",
    "\n",
    "\n",
    "from pytorch_ood.dataset.img import (\n",
    "    LSUNResize,\n",
    "    Textures,\n",
    "    TinyImageNetResize,\n",
    ")\n",
    "from torch.utils.data import DataLoader\n",
    "\n",
    "# Setup preprocessing\n",
    "mean = [x / 255 for x in [125.3, 123.0, 113.9]]\n",
    "std = [x / 255 for x in [63.0, 62.1, 66.7]]\n",
    "trans = tvt.Compose(\n",
    "    [\n",
    "        tvt.Resize(size=(32, 32)),\n",
    "        ToRGB(),\n",
    "        tvt.ToTensor(),\n",
    "        tvt.Normalize(std=std, mean=mean),\n",
    "    ]\n",
    ")\n",
    "\n",
    "# Setup datasets\n",
    "dataset_in_test = CIFAR10(\n",
    "    root=DATASET_PATH, train=False, transform=trans, download=True\n",
    ")\n",
    "\n",
    "# create all OOD datasets - we will use `ToUnknown` transform for labels, setting them to -1\n",
    "ood_datasets = [Textures, TinyImageNetResize, LSUNResize]\n",
    "datasets = {}\n",
    "for ood_dataset in ood_datasets:\n",
    "    dataset_out_test = ood_dataset(\n",
    "        root=DATASET_PATH, transform=trans, target_transform=ToUnknown(), download=True\n",
    "    )\n",
    "    test_loader = DataLoader(dataset_in_test + dataset_out_test, batch_size=256)\n",
    "    datasets[ood_dataset.__name__] = test_loader\n",
    "\n",
    "# %%"
   ]
  },
  {
   "attachments": {},
   "cell_type": "markdown",
   "metadata": {},
   "source": [
    "#### Maximum Softmax Probability (MSP)\n",
    "\n",
    "The \"Maximum Softmax Probability\" method for out-of-distribution (OOD) detection, introduced in the work \"A Baseline for Detecting Misclassified and Out-of-Distribution Examples in Neural Networks,\" involves computing the maximum probability assigned to the correct class by a neural network classifier. Samples with lower maximum probabilities are considered OOD, as they indicate uncertainty or ambiguity in classification and likely belong to an unseen or anomalous distribution."
   ]
  },
  {
   "cell_type": "code",
   "execution_count": null,
   "metadata": {},
   "outputs": [],
   "source": [
    "from src.utils.ood import Detector\n",
    "from typing import Optional\n",
    "\n",
    "\n",
    "class MaxSoftmax(Detector):\n",
    "    \"\"\"\n",
    "    From https://github.com/kkirchheim/pytorch-ood\n",
    "    Implements the Maximum Softmax Probability (MSP) thresholding baseline for OOD detection.\n",
    "\n",
    "    Optionally, implements temperature scaling, which divides the logits by a constant temperature :math:`T`\n",
    "    before calculating the softmax.\n",
    "\n",
    "    :see Paper:\n",
    "        `ArXiv <https://arxiv.org/abs/1610.02136>`_\n",
    "    :see Implementation:\n",
    "        `GitHub <https://github.com/hendrycks/error-detection>`_\n",
    "    \"\"\"\n",
    "\n",
    "    def __init__(self, model: nn.Module, temp: Optional[float] = 1.0):\n",
    "        super().__init__()\n",
    "        self.t = temp\n",
    "        self.model = model\n",
    "\n",
    "    def predict(self, x: torch.Tensor) -> torch.Tensor:\n",
    "        return self.score(self.model(x))\n",
    "\n",
    "    def fit(self, *args, **kwargs) -> \"MaxSoftmax\":\n",
    "        return self\n",
    "\n",
    "    def fit_features(self, *args, **kwargs) -> \"MaxSoftmax\":\n",
    "        return self\n",
    "\n",
    "    def predict_features(self, logits: torch.Tensor) -> torch.Tensor:\n",
    "        return self.score(logits)\n",
    "\n",
    "    def score(self, logits: torch.Tensor) -> torch.Tensor:\n",
    "        \"\"\"This method should return a score based on Softmax function from logits.\n",
    "\n",
    "        The logits should be scaled by the temperature.\n",
    "        \"\"\"\n",
    "        raise NotImplementedError\n"
   ]
  },
  {
   "attachments": {},
   "cell_type": "markdown",
   "metadata": {},
   "source": [
    "#### Mahalanobis\n",
    "\n",
    "In the work \"A Simple Unified Framework for Detecting Out-of-Distribution Samples and Adversarial Attacks,\" the Mahalanobis distance is utilized for OOD detection. This method involves measuring the distance between a sample and the distribution of the training data in the feature space. By modeling the training data distribution using a Gaussian distribution, the Mahalanobis distance is calculated. Higher distances indicate that a sample deviates significantly from the training data, suggesting that it likely belongs to an unseen or anomalous dataset.\n",
    "\n",
    "The Mahalanobis distance (MD) for OOD detection is computed using the following equation:\n",
    "\n",
    "$MD(x) = \\sqrt{(x - \\mu)^T \\Sigma^{-1} (x - \\mu)}$\n",
    "\n",
    "Where:\n",
    "\n",
    "$x$ represents the feature vector of the input sample,\n",
    "\n",
    "$\\mu$ is the mean vector of the training data distribution,\n",
    "\n",
    "$\\Sigma$ is the covariance matrix of the training data distribution, can be calculated as $\\text{Cov}(X, Y) = \\text{E}[(X - \\mu_X)(Y - \\mu_Y)]$\n",
    "\n",
    "\n",
    "The Mahalanobis distance for OOD detection provides an intuitive measure of how much a sample deviates from the training data distribution. It takes into account both the mean and covariance of the training data, allowing it to capture the shape and spread of the distribution. By calculating the distance between a sample and the distribution in the feature space, the Mahalanobis distance can identify samples that are significantly different from the training data. This method is advantageous as it considers the correlation between features and provides a more nuanced measure of dissimilarity compared to simple Euclidean distance. Higher Mahalanobis distances suggest that a sample is likely to be from an unseen or anomalous dataset, making it a useful tool for OOD detection."
   ]
  },
  {
   "cell_type": "code",
   "execution_count": 129,
   "metadata": {},
   "outputs": [],
   "source": [
    "from typing import Callable, List, Optional, TypeVar\n",
    "from pytorch_ood.utils import (\n",
    "    TensorBuffer,\n",
    "    contains_unknown,\n",
    "    extract_features,\n",
    "    is_known,\n",
    "    is_unknown,\n",
    ")\n",
    "import warnings\n",
    "from torch.autograd import Variable\n",
    "from src.utils.ood import Detector\n",
    "\n",
    "\n",
    "class Mahalanobis(Detector):\n",
    "    \"\"\"\n",
    "    Implements the Mahalanobis Method from the paper *A Simple Unified Framework for Detecting\n",
    "    Out-of-Distribution Samples and Adversarial Attacks*.\n",
    "\n",
    "    This method calculates a class center :math:`\\\\mu_y` for each class,\n",
    "    and a shared covariance matrix :math:`\\\\Sigma` from the data.\n",
    "\n",
    "    Also uses ODIN preprocessing.\n",
    "\n",
    "    :see Implementation: `GitHub <https://github.com/pokaxpoka/deep_Mahalanobis_detector>`__\n",
    "    :see Paper: `ArXiv <https://arxiv.org/abs/1807.03888>`__\n",
    "    \"\"\"\n",
    "\n",
    "    def __init__(\n",
    "        self,\n",
    "        model: Callable[[torch.Tensor], torch.Tensor],\n",
    "        eps: float = 0.002,\n",
    "        norm_std: Optional[list] = None,\n",
    "    ):\n",
    "        \"\"\"\n",
    "        :param model: the Neural Network, should output features\n",
    "        :param eps: magnitude for gradient based input preprocessing\n",
    "        :param norm_std: Standard deviations for input normalization\n",
    "        \"\"\"\n",
    "        super().__init__()\n",
    "        self.model = model\n",
    "        self.mu: Optional[torch.Tensor] = None\n",
    "        self.cov: Optional[torch.Tensor] = None\n",
    "        self.precision: Optional[torch.Tensor] = None\n",
    "        self.eps: float = eps\n",
    "        self.norm_std = norm_std\n",
    "\n",
    "    def fit(self, data_loader: DataLoader, device: str = None) -> \"Mahalanobis\":\n",
    "        \"\"\"Fit parameters of the Multivariate Gaussian.\"\"\"\n",
    "        if device is None:\n",
    "            device = list(self.model.parameters())[0].device\n",
    "            print(f\"No device given. Will use '{device}'.\")\n",
    "\n",
    "        z, y = extract_features(data_loader, self.model, device)\n",
    "        return self.fit_features(z, y, device)\n",
    "\n",
    "    def fit_features(\n",
    "        self, z: torch.Tensor, y: torch.Tensor, device: str = None\n",
    "    ) -> \"Mahalanobis\":\n",
    "        \"\"\"Fit parameters of the Multivariate Gaussian.\"\"\"\n",
    "\n",
    "        if device is None:\n",
    "            device = z.device\n",
    "            print(f\"No device given. Will use '{device}'.\")\n",
    "\n",
    "        z, y = z.to(device), y.to(device)\n",
    "\n",
    "        print(\"Calculating mahalanobis parameters.\")\n",
    "        classes = y.unique()\n",
    "\n",
    "        # we assume here that all class 0 >= labels <= classes.max() exist\n",
    "        assert len(classes) == classes.max().item() + 1\n",
    "        assert not contains_unknown(classes)\n",
    "\n",
    "        n_classes = len(classes)\n",
    "        self.mu = torch.zeros(size=(n_classes, z.shape[-1])).to(device)\n",
    "        self.cov = torch.zeros(size=(z.shape[-1], z.shape[-1])).to(device)\n",
    "\n",
    "        # START IMPLEMENT - CALCULATE MEANS FOR EACH CLASS AND TIED COVARIANCE MATRIX\n",
    "        # HINT: tied covariance is a sum of covariances per class\n",
    "\n",
    "        # END IMPLEMENT\n",
    "\n",
    "        self.cov += torch.eye(self.cov.shape[0], device=self.cov.device) * 1e-6\n",
    "        self.precision = torch.linalg.inv(self.cov)\n",
    "        # END SOLUTION\n",
    "\n",
    "        return self\n",
    "\n",
    "    def predict_features(self, x: torch.Tensor) -> torch.Tensor:\n",
    "        \"\"\"\n",
    "        Calculates mahalanobis distance directly on features. ODIN preprocessing will not be applied.\n",
    "        \"\"\"\n",
    "        features = x.view(x.size(0), x.size(1), -1)\n",
    "        features = torch.mean(features, 2)\n",
    "        noise_gaussian_scores = []\n",
    "\n",
    "        for clazz in range(self.n_classes):\n",
    "            centered_features = features.data - self.mu[clazz]\n",
    "            term_gau = (\n",
    "                -0.5\n",
    "                * torch.mm(\n",
    "                    torch.mm(centered_features, self.precision), centered_features.t()\n",
    "                ).diag()\n",
    "            )\n",
    "            noise_gaussian_scores.append(term_gau.view(-1, 1))\n",
    "\n",
    "        noise_gaussian_score = torch.cat(noise_gaussian_scores, 1)\n",
    "        noise_gaussian_score = torch.max(noise_gaussian_score, dim=1).values\n",
    "\n",
    "        return -noise_gaussian_score\n",
    "\n",
    "    def predict(self, x: torch.Tensor) -> torch.Tensor:\n",
    "        if self.eps > 0:\n",
    "            x = self._odin_preprocess(x, x.device)\n",
    "\n",
    "        features = self.model(x)\n",
    "        return self.predict_features(features)\n",
    "\n",
    "    def _odin_preprocess(self, x: torch.Tensor, dev: str):\n",
    "        \"\"\"The original implementation uses mean over feature maps. here, we just flatten\"\"\"\n",
    "        # does not work in inference mode, this sometimes collides with pytorch-lightning\n",
    "        if torch.is_inference_mode_enabled():\n",
    "            warnings.warn(\n",
    "                \"ODIN not compatible with inference mode. Will be deactivated.\"\n",
    "            )\n",
    "\n",
    "        with torch.inference_mode(False):\n",
    "            if torch.is_inference(x):\n",
    "                x = x.clone()\n",
    "\n",
    "            with torch.enable_grad():\n",
    "                x = Variable(x, requires_grad=True)\n",
    "                features = self.model(x)\n",
    "                features = features.view(features.shape[0], -1)  # flatten\n",
    "                score = None\n",
    "\n",
    "                for clazz in range(self.n_classes):\n",
    "                    centered_features = features.data - self.mu[clazz]\n",
    "                    term_gau = (\n",
    "                        -0.5\n",
    "                        * torch.mm(\n",
    "                            torch.mm(centered_features, self.precision),\n",
    "                            centered_features.t(),\n",
    "                        ).diag()\n",
    "                    )\n",
    "\n",
    "                    if clazz == 0:\n",
    "                        score = term_gau.view(-1, 1)\n",
    "                    else:\n",
    "                        score = torch.cat((score, term_gau.view(-1, 1)), dim=1)\n",
    "\n",
    "                # calculate gradient of inputs with respect to score of predicted class,\n",
    "                # according to mahalanobis distance\n",
    "                sample_pred = score.max(dim=1).indices\n",
    "                batch_sample_mean = self.mu.index_select(0, sample_pred)\n",
    "                centered_features = features - Variable(batch_sample_mean)\n",
    "                pure_gau = (\n",
    "                    -0.5\n",
    "                    * torch.mm(\n",
    "                        torch.mm(centered_features, Variable(self.precision)),\n",
    "                        centered_features.t(),\n",
    "                    ).diag()\n",
    "                )\n",
    "                loss = torch.mean(-pure_gau)\n",
    "                loss.backward()\n",
    "\n",
    "                gradient = torch.sign(x.grad.data)\n",
    "\n",
    "        if self.norm_std:\n",
    "            for i, std in enumerate(self.norm_std):\n",
    "                gradient.index_copy_(\n",
    "                    1,\n",
    "                    torch.LongTensor([i]).to(dev),\n",
    "                    gradient.index_select(1, torch.LongTensor([i]).to(dev)) / std,\n",
    "                )\n",
    "        perturbed_x = x.data - self.eps * gradient\n",
    "\n",
    "        return perturbed_x\n",
    "\n",
    "    @property\n",
    "    def n_classes(self):\n",
    "        return self.mu.shape[0]"
   ]
  },
  {
   "cell_type": "markdown",
   "metadata": {},
   "source": [
    "### Evaluate the detectors"
   ]
  },
  {
   "cell_type": "code",
   "execution_count": null,
   "metadata": {},
   "outputs": [],
   "source": [
    "from pytorch_ood.model import WideResNet\n",
    "\n",
    "results = []\n",
    "\n",
    "\n",
    "# model_wide_resnet = WideResNet(num_classes=10, pretrained=\"cifar10-pt\")\n",
    "models = [\n",
    "    vae_clf.eval().to(device),\n",
    "    ae_clf.eval().to(device),\n",
    "    model_resnet.eval().to(device),\n",
    "    simclr_clf.eval().to(device),\n",
    "    # model_wide_resnet.eval().to(device),\n",
    "]\n",
    "\n",
    "for model in models:\n",
    "    model_name = type(model).__name__\n",
    "    print(f\"->Model: {model_name}\")\n",
    "    if model_name == \"MyResnet\":\n",
    "      mahalanobis = Mahalanobis(model._forward_features, norm_std=std, eps=0.002)\n",
    "    else:\n",
    "      mahalanobis = Mahalanobis(model.model._forward_features, norm_std=std, eps=0.002)\n",
    "    detectors = {\n",
    "        \"Mahalanobis\": mahalanobis,\n",
    "        \"MaxSoftmax\": MaxSoftmax(model),\n",
    "    }\n",
    "    loader_in_train = DataLoader(\n",
    "        CIFAR10(root=DATASET_PATH, train=True, transform=trans), batch_size=256\n",
    "    )\n",
    "    for name, detector in detectors.items():\n",
    "        print(f\"--> Fitting {name}\")\n",
    "        detector.fit(loader_in_train, device=device)\n",
    "    with torch.no_grad():\n",
    "        for detector_name, detector in detectors.items():\n",
    "            print(f\"---> Evaluating {detector_name}\")\n",
    "            for dataset_name, loader in datasets.items():\n",
    "                print(f\"----> {dataset_name}\")\n",
    "                metrics = OODMetrics()\n",
    "                for x, y in loader:\n",
    "                    metrics.update(detector(x.to(device)), y.to(device))\n",
    "                r = {\n",
    "                    \"model\": model_name,\n",
    "                    \"detector\": detector_name,\n",
    "                    \"dataset\": dataset_name,\n",
    "                }\n",
    "                r.update(metrics.compute())\n",
    "                results.append(r)"
   ]
  },
  {
   "cell_type": "code",
   "execution_count": null,
   "metadata": {},
   "outputs": [],
   "source": [
    "import pandas as pd\n",
    "\n",
    "df = pd.DataFrame(results)\n",
    "df"
   ]
  },
  {
   "cell_type": "markdown",
   "metadata": {},
   "source": []
  }
 ],
 "metadata": {
  "kernelspec": {
   "display_name": "Python [conda env:ai-tech]",
   "language": "python",
   "name": "conda-env-ai-tech-py"
  },
  "language_info": {
   "codemirror_mode": {
    "name": "ipython",
    "version": 3
   },
   "file_extension": ".py",
   "mimetype": "text/x-python",
   "name": "python",
   "nbconvert_exporter": "python",
   "pygments_lexer": "ipython3",
   "version": "3.9.16"
  }
 },
 "nbformat": 4,
 "nbformat_minor": 4
}
